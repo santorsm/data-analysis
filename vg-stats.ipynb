{
 "metadata": {
  "language_info": {
   "codemirror_mode": {
    "name": "ipython",
    "version": 3
   },
   "file_extension": ".py",
   "mimetype": "text/x-python",
   "name": "python",
   "nbconvert_exporter": "python",
   "pygments_lexer": "ipython3",
   "version": "3.8.5"
  },
  "orig_nbformat": 4,
  "kernelspec": {
   "name": "python3",
   "display_name": "Python 3.8.5 64-bit ('.venv': poetry)"
  },
  "interpreter": {
   "hash": "93c50c3cebb512405168a5a903edfc90b544c362796691df9593d5ce98c1cb1b"
  }
 },
 "nbformat": 4,
 "nbformat_minor": 2,
 "cells": [
  {
   "source": [
    "# Data Analysis with Pandas - Video Game Stats\n",
    "## Matthew Santorsola\n",
    "## 13 Jul 21"
   ],
   "cell_type": "markdown",
   "metadata": {}
  },
  {
   "cell_type": "code",
   "execution_count": 148,
   "metadata": {},
   "outputs": [],
   "source": [
    "import pandas as pd\n",
    "import numpy as np\n",
    "df = pd.read_csv('vgsales.csv')"
   ]
  },
  {
   "cell_type": "code",
   "execution_count": 149,
   "metadata": {},
   "outputs": [
    {
     "output_type": "execute_result",
     "data": {
      "text/plain": [
       "(16598, 11)"
      ]
     },
     "metadata": {},
     "execution_count": 149
    }
   ],
   "source": [
    "df.shape"
   ]
  },
  {
   "cell_type": "code",
   "execution_count": 150,
   "metadata": {},
   "outputs": [],
   "source": [
    "df1 = df.copy()"
   ]
  },
  {
   "cell_type": "code",
   "execution_count": 89,
   "metadata": {},
   "outputs": [
    {
     "output_type": "stream",
     "name": "stdout",
     "text": [
      "Rank,Name,Platform,Year,Genre,Publisher,NA_Sales,EU_Sales,JP_Sales,Other_Sales,Global_Sales\n1,Wii Sports,Wii,2006,Sports,Nintendo,41.49,29.02,3.77,8.46,82.74\n"
     ]
    }
   ],
   "source": [
    "!head -n 2 vgsales.csv"
   ]
  },
  {
   "cell_type": "code",
   "execution_count": 102,
   "metadata": {},
   "outputs": [
    {
     "output_type": "execute_result",
     "data": {
      "text/plain": [
       "11"
      ]
     },
     "metadata": {},
     "execution_count": 102
    }
   ],
   "source": [
    "headers = !head -n 1 vgsales.csv\n",
    "len(headers[0].split(','))"
   ]
  },
  {
   "cell_type": "code",
   "execution_count": 152,
   "metadata": {},
   "outputs": [
    {
     "output_type": "error",
     "ename": "AttributeError",
     "evalue": "'NoneType' object has no attribute 'columns'",
     "traceback": [
      "\u001b[0;31m---------------------------------------------------------------------------\u001b[0m",
      "\u001b[0;31mAttributeError\u001b[0m                            Traceback (most recent call last)",
      "\u001b[0;32m/var/folders/dt/32g382hd2790vpfhx9phrz4r0000gn/T/ipykernel_70240/603097432.py\u001b[0m in \u001b[0;36m<module>\u001b[0;34m\u001b[0m\n\u001b[0;32m----> 1\u001b[0;31m \u001b[0mdf1\u001b[0m\u001b[0;34m.\u001b[0m\u001b[0mrename\u001b[0m\u001b[0;34m(\u001b[0m\u001b[0mstr\u001b[0m\u001b[0;34m.\u001b[0m\u001b[0mlower\u001b[0m\u001b[0;34m,\u001b[0m\u001b[0maxis\u001b[0m\u001b[0;34m=\u001b[0m\u001b[0;34m'columns'\u001b[0m\u001b[0;34m,\u001b[0m \u001b[0minplace\u001b[0m\u001b[0;34m=\u001b[0m\u001b[0;32mTrue\u001b[0m\u001b[0;34m)\u001b[0m\u001b[0;34m.\u001b[0m\u001b[0mcolumns\u001b[0m\u001b[0;34m\u001b[0m\u001b[0;34m\u001b[0m\u001b[0m\n\u001b[0m",
      "\u001b[0;31mAttributeError\u001b[0m: 'NoneType' object has no attribute 'columns'"
     ]
    }
   ],
   "source": [
    "df1.rename(str.lower,axis='columns', inplace=True).columns"
   ]
  },
  {
   "cell_type": "code",
   "execution_count": 153,
   "metadata": {},
   "outputs": [
    {
     "output_type": "execute_result",
     "data": {
      "text/plain": [
       "   rank               name platform    year     genre publisher  na_sales  \\\n",
       "0     1         Wii Sports      Wii  2006.0    Sports  Nintendo     41.49   \n",
       "1     2  Super Mario Bros.      NES  1985.0  Platform  Nintendo     29.08   \n",
       "\n",
       "   eu_sales  jp_sales  other_sales  global_sales  \n",
       "0     29.02      3.77         8.46         82.74  \n",
       "1      3.58      6.81         0.77         40.24  "
      ],
      "text/html": "<div>\n<style scoped>\n    .dataframe tbody tr th:only-of-type {\n        vertical-align: middle;\n    }\n\n    .dataframe tbody tr th {\n        vertical-align: top;\n    }\n\n    .dataframe thead th {\n        text-align: right;\n    }\n</style>\n<table border=\"1\" class=\"dataframe\">\n  <thead>\n    <tr style=\"text-align: right;\">\n      <th></th>\n      <th>rank</th>\n      <th>name</th>\n      <th>platform</th>\n      <th>year</th>\n      <th>genre</th>\n      <th>publisher</th>\n      <th>na_sales</th>\n      <th>eu_sales</th>\n      <th>jp_sales</th>\n      <th>other_sales</th>\n      <th>global_sales</th>\n    </tr>\n  </thead>\n  <tbody>\n    <tr>\n      <th>0</th>\n      <td>1</td>\n      <td>Wii Sports</td>\n      <td>Wii</td>\n      <td>2006.0</td>\n      <td>Sports</td>\n      <td>Nintendo</td>\n      <td>41.49</td>\n      <td>29.02</td>\n      <td>3.77</td>\n      <td>8.46</td>\n      <td>82.74</td>\n    </tr>\n    <tr>\n      <th>1</th>\n      <td>2</td>\n      <td>Super Mario Bros.</td>\n      <td>NES</td>\n      <td>1985.0</td>\n      <td>Platform</td>\n      <td>Nintendo</td>\n      <td>29.08</td>\n      <td>3.58</td>\n      <td>6.81</td>\n      <td>0.77</td>\n      <td>40.24</td>\n    </tr>\n  </tbody>\n</table>\n</div>"
     },
     "metadata": {},
     "execution_count": 153
    }
   ],
   "source": [
    "df1.head(2)"
   ]
  },
  {
   "cell_type": "code",
   "execution_count": 154,
   "metadata": {},
   "outputs": [
    {
     "output_type": "execute_result",
     "data": {
      "text/plain": [
       "rank              int64\n",
       "name             object\n",
       "platform         object\n",
       "year            float64\n",
       "genre            object\n",
       "publisher        object\n",
       "na_sales        float64\n",
       "eu_sales        float64\n",
       "jp_sales        float64\n",
       "other_sales     float64\n",
       "global_sales    float64\n",
       "dtype: object"
      ]
     },
     "metadata": {},
     "execution_count": 154
    }
   ],
   "source": [
    "df1.dtypes"
   ]
  },
  {
   "cell_type": "code",
   "execution_count": 155,
   "metadata": {},
   "outputs": [
    {
     "output_type": "execute_result",
     "data": {
      "text/plain": [
       "Index(['rank', 'name', 'platform', 'year', 'genre', 'publisher', 'na_sales',\n",
       "       'eu_sales', 'jp_sales', 'other_sales', 'global_sales'],\n",
       "      dtype='object')"
      ]
     },
     "metadata": {},
     "execution_count": 155
    }
   ],
   "source": [
    "#gets column names into list for easy copying\n",
    "df1.columns"
   ]
  },
  {
   "cell_type": "code",
   "execution_count": 174,
   "metadata": {},
   "outputs": [],
   "source": [
    "# apply only for those games with over 10,000 sales\n",
    "\n",
    "df1_sales = df1[df1.global_sales>0.01][['rank','name', 'platform', 'year', 'genre', 'publisher', 'na_sales', 'global_sales']]"
   ]
  },
  {
   "cell_type": "code",
   "execution_count": 157,
   "metadata": {},
   "outputs": [
    {
     "output_type": "execute_result",
     "data": {
      "text/plain": [
       "(15980, 7)"
      ]
     },
     "metadata": {},
     "execution_count": 157
    }
   ],
   "source": [
    "df1_sales.shape"
   ]
  },
  {
   "cell_type": "code",
   "execution_count": 158,
   "metadata": {},
   "outputs": [
    {
     "output_type": "execute_result",
     "data": {
      "text/plain": [
       "count    15980.000000\n",
       "mean         0.557839\n",
       "std          1.581284\n",
       "min          0.020000\n",
       "25%          0.070000\n",
       "50%          0.190000\n",
       "75%          0.500000\n",
       "max         82.740000\n",
       "Name: global_sales, dtype: float64"
      ]
     },
     "metadata": {},
     "execution_count": 158
    }
   ],
   "source": [
    "# summary statistics of data set\n",
    "df1_sales.global_sales.describe()"
   ]
  },
  {
   "cell_type": "code",
   "execution_count": 166,
   "metadata": {},
   "outputs": [
    {
     "output_type": "execute_result",
     "data": {
      "text/plain": [
       "Electronic Arts                 1339\n",
       "Activision                       963\n",
       "Ubisoft                          901\n",
       "Namco Bandai Games               899\n",
       "Konami Digital Entertainment     815\n",
       "                                ... \n",
       "Grand Prix Games                   1\n",
       "DigiCube                           1\n",
       "Playmates                          1\n",
       "WayForward Technologies            1\n",
       "RED Entertainment                  1\n",
       "Name: publisher, Length: 556, dtype: int64"
      ]
     },
     "metadata": {},
     "execution_count": 166
    }
   ],
   "source": [
    "# Which company is the most common video game publisher?\n",
    "# >>> Electronic Arts - 1339\n",
    "df1_sales.publisher.value_counts()"
   ]
  },
  {
   "cell_type": "code",
   "execution_count": 162,
   "metadata": {},
   "outputs": [
    {
     "output_type": "execute_result",
     "data": {
      "text/plain": [
       "['Electronic Arts',\n",
       " 'Activision',\n",
       " 'Ubisoft',\n",
       " 'Namco Bandai Games',\n",
       " 'Konami Digital Entertainment',\n",
       " 'THQ',\n",
       " 'Nintendo',\n",
       " 'Sony Computer Entertainment',\n",
       " 'Sega',\n",
       " 'Take-Two Interactive']"
      ]
     },
     "metadata": {},
     "execution_count": 162
    }
   ],
   "source": [
    "# Top 10 publishers\n",
    "# https://stackoverflow.com/questions/48590268/pandas-get-the-most-frequent-values-of-a-column\n",
    "n = 10\n",
    "df1_sales['publisher'].value_counts()[:n].index.tolist()"
   ]
  },
  {
   "cell_type": "code",
   "execution_count": 171,
   "metadata": {},
   "outputs": [
    {
     "output_type": "execute_result",
     "data": {
      "text/plain": [
       "PS2     2094\n",
       "DS      2074\n",
       "PS3     1300\n",
       "Wii     1296\n",
       "X360    1231\n",
       "PS      1188\n",
       "PSP     1121\n",
       "PC       855\n",
       "XB       808\n",
       "GBA      791\n",
       "Name: platform, dtype: int64"
      ]
     },
     "metadata": {},
     "execution_count": 171
    }
   ],
   "source": [
    "# What’s the most common platform\n",
    "# >>> PS2     2094\n",
    "n=10\n",
    "df1_sales.platform.value_counts()[:n]"
   ]
  },
  {
   "cell_type": "code",
   "execution_count": 168,
   "metadata": {},
   "outputs": [
    {
     "output_type": "execute_result",
     "data": {
      "text/plain": [
       "Action          3209\n",
       "Sports          2296\n",
       "Misc            1678\n",
       "Role-Playing    1447\n",
       "Shooter         1279\n",
       "Racing          1207\n",
       "Adventure       1138\n",
       "Platform         871\n",
       "Simulation       842\n",
       "Fighting         823\n",
       "Strategy         643\n",
       "Puzzle           547\n",
       "Name: genre, dtype: int64"
      ]
     },
     "metadata": {},
     "execution_count": 168
    }
   ],
   "source": [
    "# What about the most common genre?\n",
    "# >>> Action          3209\n",
    "df1_sales.genre.value_counts()"
   ]
  },
  {
   "cell_type": "code",
   "execution_count": 170,
   "metadata": {},
   "outputs": [
    {
     "output_type": "execute_result",
     "data": {
      "text/plain": [
       "                                            name  global_sales\n",
       "0                                     Wii Sports         82.74\n",
       "1                              Super Mario Bros.         40.24\n",
       "2                                 Mario Kart Wii         35.82\n",
       "3                              Wii Sports Resort         33.00\n",
       "4                       Pokemon Red/Pokemon Blue         31.37\n",
       "5                                         Tetris         30.26\n",
       "6                          New Super Mario Bros.         30.01\n",
       "7                                       Wii Play         29.02\n",
       "8                      New Super Mario Bros. Wii         28.62\n",
       "9                                      Duck Hunt         28.31\n",
       "10                                    Nintendogs         24.76\n",
       "11                                 Mario Kart DS         23.42\n",
       "12                   Pokemon Gold/Pokemon Silver         23.10\n",
       "13                                       Wii Fit         22.72\n",
       "14                                  Wii Fit Plus         22.00\n",
       "15                            Kinect Adventures!         21.82\n",
       "16                            Grand Theft Auto V         21.40\n",
       "17                 Grand Theft Auto: San Andreas         20.81\n",
       "18                             Super Mario World         20.61\n",
       "19  Brain Age: Train Your Brain in Minutes a Day         20.22"
      ],
      "text/html": "<div>\n<style scoped>\n    .dataframe tbody tr th:only-of-type {\n        vertical-align: middle;\n    }\n\n    .dataframe tbody tr th {\n        vertical-align: top;\n    }\n\n    .dataframe thead th {\n        text-align: right;\n    }\n</style>\n<table border=\"1\" class=\"dataframe\">\n  <thead>\n    <tr style=\"text-align: right;\">\n      <th></th>\n      <th>name</th>\n      <th>global_sales</th>\n    </tr>\n  </thead>\n  <tbody>\n    <tr>\n      <th>0</th>\n      <td>Wii Sports</td>\n      <td>82.74</td>\n    </tr>\n    <tr>\n      <th>1</th>\n      <td>Super Mario Bros.</td>\n      <td>40.24</td>\n    </tr>\n    <tr>\n      <th>2</th>\n      <td>Mario Kart Wii</td>\n      <td>35.82</td>\n    </tr>\n    <tr>\n      <th>3</th>\n      <td>Wii Sports Resort</td>\n      <td>33.00</td>\n    </tr>\n    <tr>\n      <th>4</th>\n      <td>Pokemon Red/Pokemon Blue</td>\n      <td>31.37</td>\n    </tr>\n    <tr>\n      <th>5</th>\n      <td>Tetris</td>\n      <td>30.26</td>\n    </tr>\n    <tr>\n      <th>6</th>\n      <td>New Super Mario Bros.</td>\n      <td>30.01</td>\n    </tr>\n    <tr>\n      <th>7</th>\n      <td>Wii Play</td>\n      <td>29.02</td>\n    </tr>\n    <tr>\n      <th>8</th>\n      <td>New Super Mario Bros. Wii</td>\n      <td>28.62</td>\n    </tr>\n    <tr>\n      <th>9</th>\n      <td>Duck Hunt</td>\n      <td>28.31</td>\n    </tr>\n    <tr>\n      <th>10</th>\n      <td>Nintendogs</td>\n      <td>24.76</td>\n    </tr>\n    <tr>\n      <th>11</th>\n      <td>Mario Kart DS</td>\n      <td>23.42</td>\n    </tr>\n    <tr>\n      <th>12</th>\n      <td>Pokemon Gold/Pokemon Silver</td>\n      <td>23.10</td>\n    </tr>\n    <tr>\n      <th>13</th>\n      <td>Wii Fit</td>\n      <td>22.72</td>\n    </tr>\n    <tr>\n      <th>14</th>\n      <td>Wii Fit Plus</td>\n      <td>22.00</td>\n    </tr>\n    <tr>\n      <th>15</th>\n      <td>Kinect Adventures!</td>\n      <td>21.82</td>\n    </tr>\n    <tr>\n      <th>16</th>\n      <td>Grand Theft Auto V</td>\n      <td>21.40</td>\n    </tr>\n    <tr>\n      <th>17</th>\n      <td>Grand Theft Auto: San Andreas</td>\n      <td>20.81</td>\n    </tr>\n    <tr>\n      <th>18</th>\n      <td>Super Mario World</td>\n      <td>20.61</td>\n    </tr>\n    <tr>\n      <th>19</th>\n      <td>Brain Age: Train Your Brain in Minutes a Day</td>\n      <td>20.22</td>\n    </tr>\n  </tbody>\n</table>\n</div>"
     },
     "metadata": {},
     "execution_count": 170
    }
   ],
   "source": [
    "# What are the top 20 highest grossing games?\n",
    "\n",
    "df1_sales[['name','global_sales']].sort_values('global_sales', ascending=False).head(20)"
   ]
  },
  {
   "cell_type": "code",
   "execution_count": 175,
   "metadata": {},
   "outputs": [
    {
     "output_type": "execute_result",
     "data": {
      "text/plain": [
       "0.08"
      ]
     },
     "metadata": {},
     "execution_count": 175
    }
   ],
   "source": [
    "# For North American video game sales, what’s the median?\n",
    "\n",
    "df1_sales.na_sales.median()"
   ]
  },
  {
   "cell_type": "code",
   "execution_count": 197,
   "metadata": {},
   "outputs": [
    {
     "output_type": "execute_result",
     "data": {
      "text/plain": [
       "                                     name  na_sales\n",
       "6656                      Animal Paradise      0.09\n",
       "6235                  Mass Effect Trilogy      0.09\n",
       "11012  NERF N-Strike: Double Blast Bundle      0.09\n",
       "7564                               XCOM 2      0.09\n",
       "3303            pro evolution soccer 2011      0.09"
      ],
      "text/html": "<div>\n<style scoped>\n    .dataframe tbody tr th:only-of-type {\n        vertical-align: middle;\n    }\n\n    .dataframe tbody tr th {\n        vertical-align: top;\n    }\n\n    .dataframe thead th {\n        text-align: right;\n    }\n</style>\n<table border=\"1\" class=\"dataframe\">\n  <thead>\n    <tr style=\"text-align: right;\">\n      <th></th>\n      <th>name</th>\n      <th>na_sales</th>\n    </tr>\n  </thead>\n  <tbody>\n    <tr>\n      <th>6656</th>\n      <td>Animal Paradise</td>\n      <td>0.09</td>\n    </tr>\n    <tr>\n      <th>6235</th>\n      <td>Mass Effect Trilogy</td>\n      <td>0.09</td>\n    </tr>\n    <tr>\n      <th>11012</th>\n      <td>NERF N-Strike: Double Blast Bundle</td>\n      <td>0.09</td>\n    </tr>\n    <tr>\n      <th>7564</th>\n      <td>XCOM 2</td>\n      <td>0.09</td>\n    </tr>\n    <tr>\n      <th>3303</th>\n      <td>pro evolution soccer 2011</td>\n      <td>0.09</td>\n    </tr>\n  </tbody>\n</table>\n</div>"
     },
     "metadata": {},
     "execution_count": 197
    }
   ],
   "source": [
    "# Provide a secondary output showing ten games surrounding the median sales output\n",
    "\n",
    "above = df1_sales[df1_sales['na_sales'] > df1_sales.na_sales.median()][['name','na_sales']].sort_values('na_sales').head(5)\n",
    "\n",
    "above.sort_values('name')\n"
   ]
  },
  {
   "cell_type": "code",
   "execution_count": 198,
   "metadata": {},
   "outputs": [
    {
     "output_type": "execute_result",
     "data": {
      "text/plain": [
       "                               name  na_sales\n",
       "9408                    Chicken Run      0.07\n",
       "11539  Code Lyoko: Fall of X.A.N.A.      0.07\n",
       "9761    Megamind: Ultimate Showdown      0.07\n",
       "9420     Nagano Winter Olympics '98      0.07\n",
       "137               World of Warcraft      0.07"
      ],
      "text/html": "<div>\n<style scoped>\n    .dataframe tbody tr th:only-of-type {\n        vertical-align: middle;\n    }\n\n    .dataframe tbody tr th {\n        vertical-align: top;\n    }\n\n    .dataframe thead th {\n        text-align: right;\n    }\n</style>\n<table border=\"1\" class=\"dataframe\">\n  <thead>\n    <tr style=\"text-align: right;\">\n      <th></th>\n      <th>name</th>\n      <th>na_sales</th>\n    </tr>\n  </thead>\n  <tbody>\n    <tr>\n      <th>9408</th>\n      <td>Chicken Run</td>\n      <td>0.07</td>\n    </tr>\n    <tr>\n      <th>11539</th>\n      <td>Code Lyoko: Fall of X.A.N.A.</td>\n      <td>0.07</td>\n    </tr>\n    <tr>\n      <th>9761</th>\n      <td>Megamind: Ultimate Showdown</td>\n      <td>0.07</td>\n    </tr>\n    <tr>\n      <th>9420</th>\n      <td>Nagano Winter Olympics '98</td>\n      <td>0.07</td>\n    </tr>\n    <tr>\n      <th>137</th>\n      <td>World of Warcraft</td>\n      <td>0.07</td>\n    </tr>\n  </tbody>\n</table>\n</div>"
     },
     "metadata": {},
     "execution_count": 198
    }
   ],
   "source": [
    "#Provide a secondary output showing ten games surrounding the median sales output\n",
    "\n",
    "below = df1_sales[df1_sales['na_sales'] < df1_sales.na_sales.median()][['name','na_sales']].sort_values('na_sales').tail(5)\n",
    "\n",
    "below.sort_values('name')"
   ]
  },
  {
   "cell_type": "code",
   "execution_count": 211,
   "metadata": {},
   "outputs": [],
   "source": [
    "# For the top-selling game of all time, how many standard deviations above/below the mean are its sales for North America?\n",
    "\n",
    "max_sales = df1_sales.global_sales.max()\n",
    "mean_sales = df1_sales.global_sales.mean()\n",
    "std_sales = df1_sales.global_sales.std()"
   ]
  },
  {
   "cell_type": "code",
   "execution_count": 212,
   "metadata": {},
   "outputs": [
    {
     "output_type": "execute_result",
     "data": {
      "text/plain": [
       "82.74"
      ]
     },
     "metadata": {},
     "execution_count": 212
    }
   ],
   "source": [
    "max_sales"
   ]
  },
  {
   "cell_type": "code",
   "execution_count": 213,
   "metadata": {},
   "outputs": [
    {
     "output_type": "execute_result",
     "data": {
      "text/plain": [
       "0.5578385481852316"
      ]
     },
     "metadata": {},
     "execution_count": 213
    }
   ],
   "source": [
    "mean_sales"
   ]
  },
  {
   "cell_type": "code",
   "execution_count": 214,
   "metadata": {},
   "outputs": [
    {
     "output_type": "execute_result",
     "data": {
      "text/plain": [
       "1.5812838924663075"
      ]
     },
     "metadata": {},
     "execution_count": 214
    }
   ],
   "source": [
    "std_sales"
   ]
  },
  {
   "cell_type": "code",
   "execution_count": 215,
   "metadata": {},
   "outputs": [
    {
     "output_type": "execute_result",
     "data": {
      "text/plain": [
       "51.971794466100796"
      ]
     },
     "metadata": {},
     "execution_count": 215
    }
   ],
   "source": [
    "(max_sales-mean_sales)/std_sales"
   ]
  },
  {
   "cell_type": "code",
   "execution_count": 229,
   "metadata": {},
   "outputs": [
    {
     "output_type": "execute_result",
     "data": {
      "text/plain": [
       "          global_sales\n",
       "platform              \n",
       "GB               2.607\n",
       "NES              2.562\n",
       "GEN              1.050\n",
       "PS4              0.855\n",
       "SNES             0.841\n",
       "X360             0.796\n",
       "PS3              0.737\n",
       "2600             0.730\n",
       "Wii              0.715\n",
       "XOne             0.708"
      ],
      "text/html": "<div>\n<style scoped>\n    .dataframe tbody tr th:only-of-type {\n        vertical-align: middle;\n    }\n\n    .dataframe tbody tr th {\n        vertical-align: top;\n    }\n\n    .dataframe thead th {\n        text-align: right;\n    }\n</style>\n<table border=\"1\" class=\"dataframe\">\n  <thead>\n    <tr style=\"text-align: right;\">\n      <th></th>\n      <th>global_sales</th>\n    </tr>\n    <tr>\n      <th>platform</th>\n      <th></th>\n    </tr>\n  </thead>\n  <tbody>\n    <tr>\n      <th>GB</th>\n      <td>2.607</td>\n    </tr>\n    <tr>\n      <th>NES</th>\n      <td>2.562</td>\n    </tr>\n    <tr>\n      <th>GEN</th>\n      <td>1.050</td>\n    </tr>\n    <tr>\n      <th>PS4</th>\n      <td>0.855</td>\n    </tr>\n    <tr>\n      <th>SNES</th>\n      <td>0.841</td>\n    </tr>\n    <tr>\n      <th>X360</th>\n      <td>0.796</td>\n    </tr>\n    <tr>\n      <th>PS3</th>\n      <td>0.737</td>\n    </tr>\n    <tr>\n      <th>2600</th>\n      <td>0.730</td>\n    </tr>\n    <tr>\n      <th>Wii</th>\n      <td>0.715</td>\n    </tr>\n    <tr>\n      <th>XOne</th>\n      <td>0.708</td>\n    </tr>\n  </tbody>\n</table>\n</div>"
     },
     "metadata": {},
     "execution_count": 229
    }
   ],
   "source": [
    "# The Nintendo Wii seems to have outdone itself with games. How does its average number of sales compare with all of the other platforms?\n",
    "# https://dfrieds.com/data-analysis/pivot-table-python-pandas.html\n",
    "\n",
    "# Wii #4 in total sales #9 in avg sales\n",
    "\n",
    "df1_sales.pivot_table(index='platform', values='global_sales', aggfunc='mean').round(3).sort_values('global_sales',ascending=False)[:10]"
   ]
  },
  {
   "cell_type": "code",
   "execution_count": 230,
   "metadata": {},
   "outputs": [
    {
     "output_type": "execute_result",
     "data": {
      "text/plain": [
       "          global_sales\n",
       "platform              \n",
       "PS2            1254.97\n",
       "X360            979.62\n",
       "PS3             957.55\n",
       "Wii             926.42\n",
       "DS              821.60\n",
       "PS              730.58\n",
       "GBA             318.19\n",
       "PSP             295.36\n",
       "PS4             277.99\n",
       "XB              258.10"
      ],
      "text/html": "<div>\n<style scoped>\n    .dataframe tbody tr th:only-of-type {\n        vertical-align: middle;\n    }\n\n    .dataframe tbody tr th {\n        vertical-align: top;\n    }\n\n    .dataframe thead th {\n        text-align: right;\n    }\n</style>\n<table border=\"1\" class=\"dataframe\">\n  <thead>\n    <tr style=\"text-align: right;\">\n      <th></th>\n      <th>global_sales</th>\n    </tr>\n    <tr>\n      <th>platform</th>\n      <th></th>\n    </tr>\n  </thead>\n  <tbody>\n    <tr>\n      <th>PS2</th>\n      <td>1254.97</td>\n    </tr>\n    <tr>\n      <th>X360</th>\n      <td>979.62</td>\n    </tr>\n    <tr>\n      <th>PS3</th>\n      <td>957.55</td>\n    </tr>\n    <tr>\n      <th>Wii</th>\n      <td>926.42</td>\n    </tr>\n    <tr>\n      <th>DS</th>\n      <td>821.60</td>\n    </tr>\n    <tr>\n      <th>PS</th>\n      <td>730.58</td>\n    </tr>\n    <tr>\n      <th>GBA</th>\n      <td>318.19</td>\n    </tr>\n    <tr>\n      <th>PSP</th>\n      <td>295.36</td>\n    </tr>\n    <tr>\n      <th>PS4</th>\n      <td>277.99</td>\n    </tr>\n    <tr>\n      <th>XB</th>\n      <td>258.10</td>\n    </tr>\n  </tbody>\n</table>\n</div>"
     },
     "metadata": {},
     "execution_count": 230
    }
   ],
   "source": [
    "df1_sales.pivot_table(index='platform', values='global_sales', aggfunc='sum').round(3).sort_values('global_sales',ascending=False)[:10]"
   ]
  },
  {
   "cell_type": "code",
   "execution_count": null,
   "metadata": {},
   "outputs": [],
   "source": []
  }
 ]
}
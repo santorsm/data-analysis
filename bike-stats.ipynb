{
 "metadata": {
  "language_info": {
   "codemirror_mode": {
    "name": "ipython",
    "version": 3
   },
   "file_extension": ".py",
   "mimetype": "text/x-python",
   "name": "python",
   "nbconvert_exporter": "python",
   "pygments_lexer": "ipython3",
   "version": "3.8.5"
  },
  "orig_nbformat": 4,
  "kernelspec": {
   "name": "python3",
   "display_name": "Python 3.8.5 64-bit ('.venv': poetry)"
  },
  "interpreter": {
   "hash": "93c50c3cebb512405168a5a903edfc90b544c362796691df9593d5ce98c1cb1b"
  }
 },
 "nbformat": 4,
 "nbformat_minor": 2,
 "cells": [
  {
   "source": [
    "# Data Analysis with Pandas - Cycle Share Data\n",
    "## Matthew Santorsola\n",
    "## 13 Jul 21"
   ],
   "cell_type": "markdown",
   "metadata": {}
  },
  {
   "cell_type": "code",
   "execution_count": 6,
   "metadata": {},
   "outputs": [],
   "source": [
    "import pandas as pd\n",
    "import numpy as np"
   ]
  },
  {
   "cell_type": "code",
   "execution_count": 45,
   "metadata": {},
   "outputs": [
    {
     "output_type": "stream",
     "name": "stderr",
     "text": [
      "/Users/santo/codefellows/401/labs/data-analysis/.venv/lib/python3.8/site-packages/IPython/core/interactiveshell.py:3441: FutureWarning: The error_bad_lines argument has been deprecated and will be removed in a future version.\n",
      "\n",
      "\n",
      "  exec(code_obj, self.user_global_ns, self.user_ns)\n",
      "Skipping line 50794: ',' expected after '\"'\n"
     ]
    }
   ],
   "source": [
    "# https://stackoverflow.com/questions/55010807/pandas-errors-parsererror-expected-after\n",
    "df = pd.read_csv('trip.csv', sep=',', header=0, engine='python', quotechar='\"',  error_bad_lines=False)\n",
    "\n",
    "#\"trip_id\",\"starttime\",\"stoptime\",\"bikeid\",\"tripduration\",\"from_station_name\",\"to_station_name\",\"from_station_id\",\"to_station_id\",\"usertype\",\"gender\",\"birthyear\" '/t'"
   ]
  },
  {
   "cell_type": "code",
   "execution_count": 46,
   "metadata": {},
   "outputs": [
    {
     "output_type": "execute_result",
     "data": {
      "text/plain": [
       "   trip_id         starttime          stoptime    bikeid  tripduration  \\\n",
       "0      431  10/13/2014 10:31  10/13/2014 10:48  SEA00298       985.935   \n",
       "1      432  10/13/2014 10:32  10/13/2014 10:48  SEA00195       926.375   \n",
       "2      433  10/13/2014 10:33  10/13/2014 10:48  SEA00486       883.831   \n",
       "3      434  10/13/2014 10:34  10/13/2014 10:48  SEA00333       865.937   \n",
       "4      435  10/13/2014 10:34  10/13/2014 10:49  SEA00202       923.923   \n",
       "\n",
       "     from_station_name                                    to_station_name  \\\n",
       "0  2nd Ave & Spring St  Occidental Park / Occidental Ave S & S Washing...   \n",
       "1  2nd Ave & Spring St  Occidental Park / Occidental Ave S & S Washing...   \n",
       "2  2nd Ave & Spring St  Occidental Park / Occidental Ave S & S Washing...   \n",
       "3  2nd Ave & Spring St  Occidental Park / Occidental Ave S & S Washing...   \n",
       "4  2nd Ave & Spring St  Occidental Park / Occidental Ave S & S Washing...   \n",
       "\n",
       "  from_station_id to_station_id usertype  gender  birthyear  \n",
       "0          CBD-06         PS-04   Member    Male     1960.0  \n",
       "1          CBD-06         PS-04   Member    Male     1970.0  \n",
       "2          CBD-06         PS-04   Member  Female     1988.0  \n",
       "3          CBD-06         PS-04   Member  Female     1977.0  \n",
       "4          CBD-06         PS-04   Member    Male     1971.0  "
      ],
      "text/html": "<div>\n<style scoped>\n    .dataframe tbody tr th:only-of-type {\n        vertical-align: middle;\n    }\n\n    .dataframe tbody tr th {\n        vertical-align: top;\n    }\n\n    .dataframe thead th {\n        text-align: right;\n    }\n</style>\n<table border=\"1\" class=\"dataframe\">\n  <thead>\n    <tr style=\"text-align: right;\">\n      <th></th>\n      <th>trip_id</th>\n      <th>starttime</th>\n      <th>stoptime</th>\n      <th>bikeid</th>\n      <th>tripduration</th>\n      <th>from_station_name</th>\n      <th>to_station_name</th>\n      <th>from_station_id</th>\n      <th>to_station_id</th>\n      <th>usertype</th>\n      <th>gender</th>\n      <th>birthyear</th>\n    </tr>\n  </thead>\n  <tbody>\n    <tr>\n      <th>0</th>\n      <td>431</td>\n      <td>10/13/2014 10:31</td>\n      <td>10/13/2014 10:48</td>\n      <td>SEA00298</td>\n      <td>985.935</td>\n      <td>2nd Ave &amp; Spring St</td>\n      <td>Occidental Park / Occidental Ave S &amp; S Washing...</td>\n      <td>CBD-06</td>\n      <td>PS-04</td>\n      <td>Member</td>\n      <td>Male</td>\n      <td>1960.0</td>\n    </tr>\n    <tr>\n      <th>1</th>\n      <td>432</td>\n      <td>10/13/2014 10:32</td>\n      <td>10/13/2014 10:48</td>\n      <td>SEA00195</td>\n      <td>926.375</td>\n      <td>2nd Ave &amp; Spring St</td>\n      <td>Occidental Park / Occidental Ave S &amp; S Washing...</td>\n      <td>CBD-06</td>\n      <td>PS-04</td>\n      <td>Member</td>\n      <td>Male</td>\n      <td>1970.0</td>\n    </tr>\n    <tr>\n      <th>2</th>\n      <td>433</td>\n      <td>10/13/2014 10:33</td>\n      <td>10/13/2014 10:48</td>\n      <td>SEA00486</td>\n      <td>883.831</td>\n      <td>2nd Ave &amp; Spring St</td>\n      <td>Occidental Park / Occidental Ave S &amp; S Washing...</td>\n      <td>CBD-06</td>\n      <td>PS-04</td>\n      <td>Member</td>\n      <td>Female</td>\n      <td>1988.0</td>\n    </tr>\n    <tr>\n      <th>3</th>\n      <td>434</td>\n      <td>10/13/2014 10:34</td>\n      <td>10/13/2014 10:48</td>\n      <td>SEA00333</td>\n      <td>865.937</td>\n      <td>2nd Ave &amp; Spring St</td>\n      <td>Occidental Park / Occidental Ave S &amp; S Washing...</td>\n      <td>CBD-06</td>\n      <td>PS-04</td>\n      <td>Member</td>\n      <td>Female</td>\n      <td>1977.0</td>\n    </tr>\n    <tr>\n      <th>4</th>\n      <td>435</td>\n      <td>10/13/2014 10:34</td>\n      <td>10/13/2014 10:49</td>\n      <td>SEA00202</td>\n      <td>923.923</td>\n      <td>2nd Ave &amp; Spring St</td>\n      <td>Occidental Park / Occidental Ave S &amp; S Washing...</td>\n      <td>CBD-06</td>\n      <td>PS-04</td>\n      <td>Member</td>\n      <td>Male</td>\n      <td>1971.0</td>\n    </tr>\n  </tbody>\n</table>\n</div>"
     },
     "metadata": {},
     "execution_count": 46
    }
   ],
   "source": [
    "df.head(5)"
   ]
  },
  {
   "cell_type": "code",
   "execution_count": 48,
   "metadata": {},
   "outputs": [
    {
     "output_type": "execute_result",
     "data": {
      "text/plain": [
       "(286857, 12)"
      ]
     },
     "metadata": {},
     "execution_count": 48
    }
   ],
   "source": [
    "df.shape"
   ]
  },
  {
   "cell_type": "code",
   "execution_count": 49,
   "metadata": {},
   "outputs": [
    {
     "output_type": "execute_result",
     "data": {
      "text/plain": [
       "Index(['trip_id', 'starttime', 'stoptime', 'bikeid', 'tripduration',\n",
       "       'from_station_name', 'to_station_name', 'from_station_id',\n",
       "       'to_station_id', 'usertype', 'gender', 'birthyear'],\n",
       "      dtype='object')"
      ]
     },
     "metadata": {},
     "execution_count": 49
    }
   ],
   "source": [
    "df.columns"
   ]
  },
  {
   "cell_type": "code",
   "execution_count": 53,
   "metadata": {},
   "outputs": [],
   "source": [
    "df1 = df.copy()"
   ]
  },
  {
   "cell_type": "code",
   "execution_count": 54,
   "metadata": {},
   "outputs": [
    {
     "output_type": "execute_result",
     "data": {
      "text/plain": [
       "trip_id                int64\n",
       "starttime             object\n",
       "stoptime              object\n",
       "bikeid                object\n",
       "tripduration         float64\n",
       "from_station_name     object\n",
       "to_station_name       object\n",
       "from_station_id       object\n",
       "to_station_id         object\n",
       "usertype              object\n",
       "gender                object\n",
       "birthyear            float64\n",
       "dtype: object"
      ]
     },
     "metadata": {},
     "execution_count": 54
    }
   ],
   "source": [
    "df1.dtypes"
   ]
  },
  {
   "cell_type": "code",
   "execution_count": 62,
   "metadata": {},
   "outputs": [
    {
     "output_type": "execute_result",
     "data": {
      "text/plain": [
       "1178.3"
      ]
     },
     "metadata": {},
     "execution_count": 62
    }
   ],
   "source": [
    "# What is the average trip duration for a borrowed bicycle?\n",
    "df1.tripduration.mean().round(1)"
   ]
  },
  {
   "cell_type": "code",
   "execution_count": 78,
   "metadata": {},
   "outputs": [],
   "source": [
    "from datetime import datetime, date\n",
    "\n",
    "df1['starttime'] = pd.to_datetime(df1.starttime)\n",
    "df1['stoptime'] = pd.to_datetime(df1.stoptime)\n"
   ]
  },
  {
   "cell_type": "code",
   "execution_count": 71,
   "metadata": {},
   "outputs": [
    {
     "output_type": "execute_result",
     "data": {
      "text/plain": [
       "trip_id                       int64\n",
       "starttime            datetime64[ns]\n",
       "stoptime             datetime64[ns]\n",
       "bikeid                       object\n",
       "tripduration                float64\n",
       "from_station_name            object\n",
       "to_station_name              object\n",
       "from_station_id              object\n",
       "to_station_id                object\n",
       "usertype                     object\n",
       "gender                       object\n",
       "birthyear                   float64\n",
       "dtype: object"
      ]
     },
     "metadata": {},
     "execution_count": 71
    }
   ],
   "source": [
    "df1.dtypes"
   ]
  },
  {
   "cell_type": "code",
   "execution_count": 68,
   "metadata": {},
   "outputs": [
    {
     "output_type": "execute_result",
     "data": {
      "text/plain": [
       "   trip_id           starttime          stoptime    bikeid  tripduration  \\\n",
       "0      431 2014-10-13 10:31:00  10/13/2014 10:48  SEA00298       985.935   \n",
       "1      432 2014-10-13 10:32:00  10/13/2014 10:48  SEA00195       926.375   \n",
       "\n",
       "     from_station_name                                    to_station_name  \\\n",
       "0  2nd Ave & Spring St  Occidental Park / Occidental Ave S & S Washing...   \n",
       "1  2nd Ave & Spring St  Occidental Park / Occidental Ave S & S Washing...   \n",
       "\n",
       "  from_station_id to_station_id usertype gender  birthyear  \n",
       "0          CBD-06         PS-04   Member   Male     1960.0  \n",
       "1          CBD-06         PS-04   Member   Male     1970.0  "
      ],
      "text/html": "<div>\n<style scoped>\n    .dataframe tbody tr th:only-of-type {\n        vertical-align: middle;\n    }\n\n    .dataframe tbody tr th {\n        vertical-align: top;\n    }\n\n    .dataframe thead th {\n        text-align: right;\n    }\n</style>\n<table border=\"1\" class=\"dataframe\">\n  <thead>\n    <tr style=\"text-align: right;\">\n      <th></th>\n      <th>trip_id</th>\n      <th>starttime</th>\n      <th>stoptime</th>\n      <th>bikeid</th>\n      <th>tripduration</th>\n      <th>from_station_name</th>\n      <th>to_station_name</th>\n      <th>from_station_id</th>\n      <th>to_station_id</th>\n      <th>usertype</th>\n      <th>gender</th>\n      <th>birthyear</th>\n    </tr>\n  </thead>\n  <tbody>\n    <tr>\n      <th>0</th>\n      <td>431</td>\n      <td>2014-10-13 10:31:00</td>\n      <td>10/13/2014 10:48</td>\n      <td>SEA00298</td>\n      <td>985.935</td>\n      <td>2nd Ave &amp; Spring St</td>\n      <td>Occidental Park / Occidental Ave S &amp; S Washing...</td>\n      <td>CBD-06</td>\n      <td>PS-04</td>\n      <td>Member</td>\n      <td>Male</td>\n      <td>1960.0</td>\n    </tr>\n    <tr>\n      <th>1</th>\n      <td>432</td>\n      <td>2014-10-13 10:32:00</td>\n      <td>10/13/2014 10:48</td>\n      <td>SEA00195</td>\n      <td>926.375</td>\n      <td>2nd Ave &amp; Spring St</td>\n      <td>Occidental Park / Occidental Ave S &amp; S Washing...</td>\n      <td>CBD-06</td>\n      <td>PS-04</td>\n      <td>Member</td>\n      <td>Male</td>\n      <td>1970.0</td>\n    </tr>\n  </tbody>\n</table>\n</div>"
     },
     "metadata": {},
     "execution_count": 68
    }
   ],
   "source": [
    "df1.head(2)"
   ]
  },
  {
   "cell_type": "code",
   "execution_count": 82,
   "metadata": {},
   "outputs": [],
   "source": [
    "# https://datascienceparichay.com/article/pandas-extract-year-from-datetime-column/\n",
    "year = df1.starttime.dt.year\n",
    "avg_age = year - df1.birthyear"
   ]
  },
  {
   "cell_type": "code",
   "execution_count": 88,
   "metadata": {},
   "outputs": [
    {
     "output_type": "execute_result",
     "data": {
      "text/plain": [
       "35.3"
      ]
     },
     "metadata": {},
     "execution_count": 88
    }
   ],
   "source": [
    "# What’s the most common age of a bicycle-sharer?\n",
    "avg_age.mean().round(1)"
   ]
  },
  {
   "cell_type": "code",
   "execution_count": 110,
   "metadata": {},
   "outputs": [],
   "source": [
    "# Given all the weather data here, find the average precipitation per month, and the median precipitation\n",
    "\n",
    "#wx = pd.read_csv('weather.csv', sep=',', header=0, engine='python', quotechar='\"',  error_bad_lines=False)\n",
    "wx = pd.read_csv('weather.csv')\n"
   ]
  },
  {
   "cell_type": "code",
   "execution_count": 90,
   "metadata": {},
   "outputs": [
    {
     "output_type": "execute_result",
     "data": {
      "text/plain": [
       "(689, 21)"
      ]
     },
     "metadata": {},
     "execution_count": 90
    }
   ],
   "source": [
    "wx.shape"
   ]
  },
  {
   "cell_type": "code",
   "execution_count": 91,
   "metadata": {},
   "outputs": [
    {
     "output_type": "execute_result",
     "data": {
      "text/plain": [
       "         Date  Max_Temperature_F  Mean_Temperature_F  Min_TemperatureF  \\\n",
       "0  10/13/2014                 71                62.0                54   \n",
       "1  10/14/2014                 63                59.0                55   \n",
       "2  10/15/2014                 62                58.0                54   \n",
       "3  10/16/2014                 71                61.0                52   \n",
       "4  10/17/2014                 64                60.0                57   \n",
       "\n",
       "   Max_Dew_Point_F  MeanDew_Point_F  Min_Dewpoint_F  Max_Humidity  \\\n",
       "0               55               51              46            87   \n",
       "1               52               51              50            88   \n",
       "2               53               50              46            87   \n",
       "3               49               46              42            83   \n",
       "4               55               51              41            87   \n",
       "\n",
       "   Mean_Humidity  Min_Humidity  ...  Mean_Sea_Level_Pressure_In  \\\n",
       "0             68            46  ...                       29.79   \n",
       "1             78            63  ...                       29.75   \n",
       "2             77            67  ...                       29.71   \n",
       "3             61            36  ...                       29.95   \n",
       "4             72            46  ...                       29.78   \n",
       "\n",
       "   Min_Sea_Level_Pressure_In  Max_Visibility_Miles  Mean_Visibility_Miles  \\\n",
       "0                      29.65                    10                     10   \n",
       "1                      29.54                    10                      9   \n",
       "2                      29.51                    10                      9   \n",
       "3                      29.81                    10                     10   \n",
       "4                      29.73                    10                     10   \n",
       "\n",
       "   Min_Visibility_Miles  Max_Wind_Speed_MPH  Mean_Wind_Speed_MPH  \\\n",
       "0                     4                  13                    4   \n",
       "1                     3                  10                    5   \n",
       "2                     3                  18                    7   \n",
       "3                    10                   9                    4   \n",
       "4                     6                   8                    3   \n",
       "\n",
       "   Max_Gust_Speed_MPH Precipitation_In  Events  \n",
       "0                  21             0.00    Rain  \n",
       "1                  17             0.11    Rain  \n",
       "2                  25             0.45    Rain  \n",
       "3                   -             0.00    Rain  \n",
       "4                   -             0.14    Rain  \n",
       "\n",
       "[5 rows x 21 columns]"
      ],
      "text/html": "<div>\n<style scoped>\n    .dataframe tbody tr th:only-of-type {\n        vertical-align: middle;\n    }\n\n    .dataframe tbody tr th {\n        vertical-align: top;\n    }\n\n    .dataframe thead th {\n        text-align: right;\n    }\n</style>\n<table border=\"1\" class=\"dataframe\">\n  <thead>\n    <tr style=\"text-align: right;\">\n      <th></th>\n      <th>Date</th>\n      <th>Max_Temperature_F</th>\n      <th>Mean_Temperature_F</th>\n      <th>Min_TemperatureF</th>\n      <th>Max_Dew_Point_F</th>\n      <th>MeanDew_Point_F</th>\n      <th>Min_Dewpoint_F</th>\n      <th>Max_Humidity</th>\n      <th>Mean_Humidity</th>\n      <th>Min_Humidity</th>\n      <th>...</th>\n      <th>Mean_Sea_Level_Pressure_In</th>\n      <th>Min_Sea_Level_Pressure_In</th>\n      <th>Max_Visibility_Miles</th>\n      <th>Mean_Visibility_Miles</th>\n      <th>Min_Visibility_Miles</th>\n      <th>Max_Wind_Speed_MPH</th>\n      <th>Mean_Wind_Speed_MPH</th>\n      <th>Max_Gust_Speed_MPH</th>\n      <th>Precipitation_In</th>\n      <th>Events</th>\n    </tr>\n  </thead>\n  <tbody>\n    <tr>\n      <th>0</th>\n      <td>10/13/2014</td>\n      <td>71</td>\n      <td>62.0</td>\n      <td>54</td>\n      <td>55</td>\n      <td>51</td>\n      <td>46</td>\n      <td>87</td>\n      <td>68</td>\n      <td>46</td>\n      <td>...</td>\n      <td>29.79</td>\n      <td>29.65</td>\n      <td>10</td>\n      <td>10</td>\n      <td>4</td>\n      <td>13</td>\n      <td>4</td>\n      <td>21</td>\n      <td>0.00</td>\n      <td>Rain</td>\n    </tr>\n    <tr>\n      <th>1</th>\n      <td>10/14/2014</td>\n      <td>63</td>\n      <td>59.0</td>\n      <td>55</td>\n      <td>52</td>\n      <td>51</td>\n      <td>50</td>\n      <td>88</td>\n      <td>78</td>\n      <td>63</td>\n      <td>...</td>\n      <td>29.75</td>\n      <td>29.54</td>\n      <td>10</td>\n      <td>9</td>\n      <td>3</td>\n      <td>10</td>\n      <td>5</td>\n      <td>17</td>\n      <td>0.11</td>\n      <td>Rain</td>\n    </tr>\n    <tr>\n      <th>2</th>\n      <td>10/15/2014</td>\n      <td>62</td>\n      <td>58.0</td>\n      <td>54</td>\n      <td>53</td>\n      <td>50</td>\n      <td>46</td>\n      <td>87</td>\n      <td>77</td>\n      <td>67</td>\n      <td>...</td>\n      <td>29.71</td>\n      <td>29.51</td>\n      <td>10</td>\n      <td>9</td>\n      <td>3</td>\n      <td>18</td>\n      <td>7</td>\n      <td>25</td>\n      <td>0.45</td>\n      <td>Rain</td>\n    </tr>\n    <tr>\n      <th>3</th>\n      <td>10/16/2014</td>\n      <td>71</td>\n      <td>61.0</td>\n      <td>52</td>\n      <td>49</td>\n      <td>46</td>\n      <td>42</td>\n      <td>83</td>\n      <td>61</td>\n      <td>36</td>\n      <td>...</td>\n      <td>29.95</td>\n      <td>29.81</td>\n      <td>10</td>\n      <td>10</td>\n      <td>10</td>\n      <td>9</td>\n      <td>4</td>\n      <td>-</td>\n      <td>0.00</td>\n      <td>Rain</td>\n    </tr>\n    <tr>\n      <th>4</th>\n      <td>10/17/2014</td>\n      <td>64</td>\n      <td>60.0</td>\n      <td>57</td>\n      <td>55</td>\n      <td>51</td>\n      <td>41</td>\n      <td>87</td>\n      <td>72</td>\n      <td>46</td>\n      <td>...</td>\n      <td>29.78</td>\n      <td>29.73</td>\n      <td>10</td>\n      <td>10</td>\n      <td>6</td>\n      <td>8</td>\n      <td>3</td>\n      <td>-</td>\n      <td>0.14</td>\n      <td>Rain</td>\n    </tr>\n  </tbody>\n</table>\n<p>5 rows × 21 columns</p>\n</div>"
     },
     "metadata": {},
     "execution_count": 91
    }
   ],
   "source": [
    "wx.head(5)"
   ]
  },
  {
   "cell_type": "code",
   "execution_count": 92,
   "metadata": {},
   "outputs": [
    {
     "output_type": "execute_result",
     "data": {
      "text/plain": [
       "Date                           object\n",
       "Max_Temperature_F               int64\n",
       "Mean_Temperature_F            float64\n",
       "Min_TemperatureF                int64\n",
       "Max_Dew_Point_F                 int64\n",
       "MeanDew_Point_F                 int64\n",
       "Min_Dewpoint_F                  int64\n",
       "Max_Humidity                    int64\n",
       "Mean_Humidity                   int64\n",
       "Min_Humidity                    int64\n",
       "Max_Sea_Level_Pressure_In     float64\n",
       "Mean_Sea_Level_Pressure_In    float64\n",
       "Min_Sea_Level_Pressure_In     float64\n",
       "Max_Visibility_Miles            int64\n",
       "Mean_Visibility_Miles           int64\n",
       "Min_Visibility_Miles            int64\n",
       "Max_Wind_Speed_MPH              int64\n",
       "Mean_Wind_Speed_MPH             int64\n",
       "Max_Gust_Speed_MPH             object\n",
       "Precipitation_In              float64\n",
       "Events                         object\n",
       "dtype: object"
      ]
     },
     "metadata": {},
     "execution_count": 92
    }
   ],
   "source": [
    "wx.dtypes"
   ]
  },
  {
   "cell_type": "code",
   "execution_count": 96,
   "metadata": {},
   "outputs": [],
   "source": [
    "wx1 = wx.copy()"
   ]
  },
  {
   "cell_type": "code",
   "execution_count": 97,
   "metadata": {},
   "outputs": [],
   "source": [
    "wx1['Date'] = pd.to_datetime(wx1.Date)"
   ]
  },
  {
   "cell_type": "code",
   "execution_count": 98,
   "metadata": {},
   "outputs": [
    {
     "output_type": "execute_result",
     "data": {
      "text/plain": [
       "Date                          datetime64[ns]\n",
       "Max_Temperature_F                      int64\n",
       "Mean_Temperature_F                   float64\n",
       "Min_TemperatureF                       int64\n",
       "Max_Dew_Point_F                        int64\n",
       "MeanDew_Point_F                        int64\n",
       "Min_Dewpoint_F                         int64\n",
       "Max_Humidity                           int64\n",
       "Mean_Humidity                          int64\n",
       "Min_Humidity                           int64\n",
       "Max_Sea_Level_Pressure_In            float64\n",
       "Mean_Sea_Level_Pressure_In           float64\n",
       "Min_Sea_Level_Pressure_In            float64\n",
       "Max_Visibility_Miles                   int64\n",
       "Mean_Visibility_Miles                  int64\n",
       "Min_Visibility_Miles                   int64\n",
       "Max_Wind_Speed_MPH                     int64\n",
       "Mean_Wind_Speed_MPH                    int64\n",
       "Max_Gust_Speed_MPH                    object\n",
       "Precipitation_In                     float64\n",
       "Events                                object\n",
       "dtype: object"
      ]
     },
     "metadata": {},
     "execution_count": 98
    }
   ],
   "source": [
    "wx1.dtypes"
   ]
  },
  {
   "cell_type": "code",
   "execution_count": 101,
   "metadata": {},
   "outputs": [],
   "source": [
    "wx1['Month'] = wx1.Date.dt.month"
   ]
  },
  {
   "cell_type": "code",
   "execution_count": 102,
   "metadata": {},
   "outputs": [
    {
     "output_type": "execute_result",
     "data": {
      "text/plain": [
       "       Precipitation_In\n",
       "Month                  \n",
       "12                14.65\n",
       "11                11.27\n",
       "3                  9.73\n",
       "2                  9.60\n",
       "10                 9.45\n",
       "1                  8.90\n",
       "4                  3.08\n",
       "6                  1.83\n",
       "9                  1.23\n",
       "8                  1.13"
      ],
      "text/html": "<div>\n<style scoped>\n    .dataframe tbody tr th:only-of-type {\n        vertical-align: middle;\n    }\n\n    .dataframe tbody tr th {\n        vertical-align: top;\n    }\n\n    .dataframe thead th {\n        text-align: right;\n    }\n</style>\n<table border=\"1\" class=\"dataframe\">\n  <thead>\n    <tr style=\"text-align: right;\">\n      <th></th>\n      <th>Precipitation_In</th>\n    </tr>\n    <tr>\n      <th>Month</th>\n      <th></th>\n    </tr>\n  </thead>\n  <tbody>\n    <tr>\n      <th>12</th>\n      <td>14.65</td>\n    </tr>\n    <tr>\n      <th>11</th>\n      <td>11.27</td>\n    </tr>\n    <tr>\n      <th>3</th>\n      <td>9.73</td>\n    </tr>\n    <tr>\n      <th>2</th>\n      <td>9.60</td>\n    </tr>\n    <tr>\n      <th>10</th>\n      <td>9.45</td>\n    </tr>\n    <tr>\n      <th>1</th>\n      <td>8.90</td>\n    </tr>\n    <tr>\n      <th>4</th>\n      <td>3.08</td>\n    </tr>\n    <tr>\n      <th>6</th>\n      <td>1.83</td>\n    </tr>\n    <tr>\n      <th>9</th>\n      <td>1.23</td>\n    </tr>\n    <tr>\n      <th>8</th>\n      <td>1.13</td>\n    </tr>\n  </tbody>\n</table>\n</div>"
     },
     "metadata": {},
     "execution_count": 102
    }
   ],
   "source": [
    "# Given all the weather data here, find the average precipitation per month, and the median precipitation.\n",
    "\n",
    "wx1.pivot_table(index='Month', values='Precipitation_In', aggfunc='sum').round(3).sort_values('Precipitation_In',ascending=False)[:10]"
   ]
  },
  {
   "cell_type": "code",
   "execution_count": 107,
   "metadata": {},
   "outputs": [
    {
     "output_type": "execute_result",
     "data": {
      "text/plain": [
       "       Precipitation_In\n",
       "Month                  \n",
       "12                0.236\n",
       "10                0.189\n",
       "11                0.188\n",
       "2                 0.168\n",
       "3                 0.157\n",
       "1                 0.144\n",
       "4                 0.051\n",
       "9                 0.041\n",
       "6                 0.031\n",
       "8                 0.018"
      ],
      "text/html": "<div>\n<style scoped>\n    .dataframe tbody tr th:only-of-type {\n        vertical-align: middle;\n    }\n\n    .dataframe tbody tr th {\n        vertical-align: top;\n    }\n\n    .dataframe thead th {\n        text-align: right;\n    }\n</style>\n<table border=\"1\" class=\"dataframe\">\n  <thead>\n    <tr style=\"text-align: right;\">\n      <th></th>\n      <th>Precipitation_In</th>\n    </tr>\n    <tr>\n      <th>Month</th>\n      <th></th>\n    </tr>\n  </thead>\n  <tbody>\n    <tr>\n      <th>12</th>\n      <td>0.236</td>\n    </tr>\n    <tr>\n      <th>10</th>\n      <td>0.189</td>\n    </tr>\n    <tr>\n      <th>11</th>\n      <td>0.188</td>\n    </tr>\n    <tr>\n      <th>2</th>\n      <td>0.168</td>\n    </tr>\n    <tr>\n      <th>3</th>\n      <td>0.157</td>\n    </tr>\n    <tr>\n      <th>1</th>\n      <td>0.144</td>\n    </tr>\n    <tr>\n      <th>4</th>\n      <td>0.051</td>\n    </tr>\n    <tr>\n      <th>9</th>\n      <td>0.041</td>\n    </tr>\n    <tr>\n      <th>6</th>\n      <td>0.031</td>\n    </tr>\n    <tr>\n      <th>8</th>\n      <td>0.018</td>\n    </tr>\n  </tbody>\n</table>\n</div>"
     },
     "metadata": {},
     "execution_count": 107
    }
   ],
   "source": [
    "# Average precipitation in\n",
    "wx1.pivot_table(index='Month', values='Precipitation_In', aggfunc='mean').round(3).sort_values('Precipitation_In',ascending=False)[:10]"
   ]
  },
  {
   "cell_type": "code",
   "execution_count": 104,
   "metadata": {},
   "outputs": [
    {
     "output_type": "execute_result",
     "data": {
      "text/plain": [
       "       Precipitation_In\n",
       "Month                  \n",
       "12                0.100\n",
       "2                 0.040\n",
       "10                0.040\n",
       "11                0.035\n",
       "3                 0.025\n",
       "1                 0.020\n",
       "4                 0.000\n",
       "5                 0.000\n",
       "6                 0.000\n",
       "7                 0.000"
      ],
      "text/html": "<div>\n<style scoped>\n    .dataframe tbody tr th:only-of-type {\n        vertical-align: middle;\n    }\n\n    .dataframe tbody tr th {\n        vertical-align: top;\n    }\n\n    .dataframe thead th {\n        text-align: right;\n    }\n</style>\n<table border=\"1\" class=\"dataframe\">\n  <thead>\n    <tr style=\"text-align: right;\">\n      <th></th>\n      <th>Precipitation_In</th>\n    </tr>\n    <tr>\n      <th>Month</th>\n      <th></th>\n    </tr>\n  </thead>\n  <tbody>\n    <tr>\n      <th>12</th>\n      <td>0.100</td>\n    </tr>\n    <tr>\n      <th>2</th>\n      <td>0.040</td>\n    </tr>\n    <tr>\n      <th>10</th>\n      <td>0.040</td>\n    </tr>\n    <tr>\n      <th>11</th>\n      <td>0.035</td>\n    </tr>\n    <tr>\n      <th>3</th>\n      <td>0.025</td>\n    </tr>\n    <tr>\n      <th>1</th>\n      <td>0.020</td>\n    </tr>\n    <tr>\n      <th>4</th>\n      <td>0.000</td>\n    </tr>\n    <tr>\n      <th>5</th>\n      <td>0.000</td>\n    </tr>\n    <tr>\n      <th>6</th>\n      <td>0.000</td>\n    </tr>\n    <tr>\n      <th>7</th>\n      <td>0.000</td>\n    </tr>\n  </tbody>\n</table>\n</div>"
     },
     "metadata": {},
     "execution_count": 104
    }
   ],
   "source": [
    "# Median precipitation in\n",
    "wx1.pivot_table(index='Month', values='Precipitation_In', aggfunc='median').round(3).sort_values('Precipitation_In',ascending=False)[:10]"
   ]
  },
  {
   "cell_type": "code",
   "execution_count": 113,
   "metadata": {},
   "outputs": [],
   "source": [
    "#wx = pd.read_csv('weather.csv', sep=',', header=0, engine='python', quotechar='\"',  error_bad_lines=False)\n",
    "st = pd.read_csv('station.csv')"
   ]
  },
  {
   "cell_type": "code",
   "execution_count": 114,
   "metadata": {},
   "outputs": [
    {
     "output_type": "execute_result",
     "data": {
      "text/plain": [
       "  station_id                    name        lat        long install_date  \\\n",
       "0      BT-01      3rd Ave & Broad St  47.618418 -122.350964   10/13/2014   \n",
       "1      BT-03       2nd Ave & Vine St  47.615829 -122.348564   10/13/2014   \n",
       "2      BT-04  6th Ave & Blanchard St  47.616094 -122.341102   10/13/2014   \n",
       "3      BT-05  2nd Ave & Blanchard St  47.613110 -122.344208   10/13/2014   \n",
       "4     CBD-03      7th Ave & Union St  47.610731 -122.332447   10/13/2014   \n",
       "\n",
       "   install_dockcount modification_date  current_dockcount decommission_date  \n",
       "0                 18               NaN                 18               NaN  \n",
       "1                 16               NaN                 16               NaN  \n",
       "2                 16               NaN                 16               NaN  \n",
       "3                 14               NaN                 14               NaN  \n",
       "4                 20               NaN                 20               NaN  "
      ],
      "text/html": "<div>\n<style scoped>\n    .dataframe tbody tr th:only-of-type {\n        vertical-align: middle;\n    }\n\n    .dataframe tbody tr th {\n        vertical-align: top;\n    }\n\n    .dataframe thead th {\n        text-align: right;\n    }\n</style>\n<table border=\"1\" class=\"dataframe\">\n  <thead>\n    <tr style=\"text-align: right;\">\n      <th></th>\n      <th>station_id</th>\n      <th>name</th>\n      <th>lat</th>\n      <th>long</th>\n      <th>install_date</th>\n      <th>install_dockcount</th>\n      <th>modification_date</th>\n      <th>current_dockcount</th>\n      <th>decommission_date</th>\n    </tr>\n  </thead>\n  <tbody>\n    <tr>\n      <th>0</th>\n      <td>BT-01</td>\n      <td>3rd Ave &amp; Broad St</td>\n      <td>47.618418</td>\n      <td>-122.350964</td>\n      <td>10/13/2014</td>\n      <td>18</td>\n      <td>NaN</td>\n      <td>18</td>\n      <td>NaN</td>\n    </tr>\n    <tr>\n      <th>1</th>\n      <td>BT-03</td>\n      <td>2nd Ave &amp; Vine St</td>\n      <td>47.615829</td>\n      <td>-122.348564</td>\n      <td>10/13/2014</td>\n      <td>16</td>\n      <td>NaN</td>\n      <td>16</td>\n      <td>NaN</td>\n    </tr>\n    <tr>\n      <th>2</th>\n      <td>BT-04</td>\n      <td>6th Ave &amp; Blanchard St</td>\n      <td>47.616094</td>\n      <td>-122.341102</td>\n      <td>10/13/2014</td>\n      <td>16</td>\n      <td>NaN</td>\n      <td>16</td>\n      <td>NaN</td>\n    </tr>\n    <tr>\n      <th>3</th>\n      <td>BT-05</td>\n      <td>2nd Ave &amp; Blanchard St</td>\n      <td>47.613110</td>\n      <td>-122.344208</td>\n      <td>10/13/2014</td>\n      <td>14</td>\n      <td>NaN</td>\n      <td>14</td>\n      <td>NaN</td>\n    </tr>\n    <tr>\n      <th>4</th>\n      <td>CBD-03</td>\n      <td>7th Ave &amp; Union St</td>\n      <td>47.610731</td>\n      <td>-122.332447</td>\n      <td>10/13/2014</td>\n      <td>20</td>\n      <td>NaN</td>\n      <td>20</td>\n      <td>NaN</td>\n    </tr>\n  </tbody>\n</table>\n</div>"
     },
     "metadata": {},
     "execution_count": 114
    }
   ],
   "source": [
    "st.head(5)"
   ]
  },
  {
   "cell_type": "code",
   "execution_count": 119,
   "metadata": {},
   "outputs": [],
   "source": [
    "st1 = st.copy()"
   ]
  },
  {
   "cell_type": "code",
   "execution_count": 121,
   "metadata": {},
   "outputs": [
    {
     "output_type": "execute_result",
     "data": {
      "text/plain": [
       "count    58.000000\n",
       "mean     16.517241\n",
       "std       5.117021\n",
       "min       0.000000\n",
       "25%      16.000000\n",
       "50%      18.000000\n",
       "75%      18.000000\n",
       "max      26.000000\n",
       "Name: current_dockcount, dtype: float64"
      ]
     },
     "metadata": {},
     "execution_count": 121
    }
   ],
   "source": [
    "st1.current_dockcount.describe()"
   ]
  },
  {
   "cell_type": "code",
   "execution_count": 124,
   "metadata": {},
   "outputs": [
    {
     "output_type": "execute_result",
     "data": {
      "text/plain": [
       "trip_id                       int64\n",
       "starttime            datetime64[ns]\n",
       "stoptime             datetime64[ns]\n",
       "bikeid                       object\n",
       "tripduration                float64\n",
       "from_station_name            object\n",
       "to_station_name              object\n",
       "from_station_id              object\n",
       "to_station_id                object\n",
       "usertype                     object\n",
       "gender                       object\n",
       "birthyear                   float64\n",
       "dtype: object"
      ]
     },
     "metadata": {},
     "execution_count": 124
    }
   ],
   "source": [
    "df1.dtypes"
   ]
  },
  {
   "cell_type": "code",
   "execution_count": 125,
   "metadata": {},
   "outputs": [],
   "source": [
    "df1['trip_month'] = df1.starttime.dt.month"
   ]
  },
  {
   "cell_type": "code",
   "execution_count": null,
   "metadata": {},
   "outputs": [],
   "source": []
  }
 ]
}
{
 "metadata": {
  "language_info": {
   "codemirror_mode": {
    "name": "ipython",
    "version": 3
   },
   "file_extension": ".py",
   "mimetype": "text/x-python",
   "name": "python",
   "nbconvert_exporter": "python",
   "pygments_lexer": "ipython3",
   "version": "3.8.5"
  },
  "orig_nbformat": 4,
  "kernelspec": {
   "name": "python3",
   "display_name": "Python 3.8.5 64-bit ('.venv': poetry)"
  },
  "interpreter": {
   "hash": "93c50c3cebb512405168a5a903edfc90b544c362796691df9593d5ce98c1cb1b"
  }
 },
 "nbformat": 4,
 "nbformat_minor": 2,
 "cells": [
  {
   "source": [
    "# Data Analysis with Pandas - Cycle Share Data\n",
    "## Matthew Santorsola\n",
    "## 13 Jul 21"
   ],
   "cell_type": "markdown",
   "metadata": {}
  },
  {
   "cell_type": "code",
   "execution_count": 140,
   "metadata": {},
   "outputs": [],
   "source": [
    "import pandas as pd\n",
    "import numpy as np\n",
    "import matplotlib.pyplot as plt"
   ]
  },
  {
   "cell_type": "code",
   "execution_count": 45,
   "metadata": {},
   "outputs": [
    {
     "output_type": "stream",
     "name": "stderr",
     "text": [
      "/Users/santo/codefellows/401/labs/data-analysis/.venv/lib/python3.8/site-packages/IPython/core/interactiveshell.py:3441: FutureWarning: The error_bad_lines argument has been deprecated and will be removed in a future version.\n",
      "\n",
      "\n",
      "  exec(code_obj, self.user_global_ns, self.user_ns)\n",
      "Skipping line 50794: ',' expected after '\"'\n"
     ]
    }
   ],
   "source": [
    "# https://stackoverflow.com/questions/55010807/pandas-errors-parsererror-expected-after\n",
    "df = pd.read_csv('trip.csv', sep=',', header=0, engine='python', quotechar='\"',  error_bad_lines=False)\n",
    "\n",
    "#\"trip_id\",\"starttime\",\"stoptime\",\"bikeid\",\"tripduration\",\"from_station_name\",\"to_station_name\",\"from_station_id\",\"to_station_id\",\"usertype\",\"gender\",\"birthyear\" '/t'"
   ]
  },
  {
   "cell_type": "code",
   "execution_count": 49,
   "metadata": {},
   "outputs": [
    {
     "output_type": "execute_result",
     "data": {
      "text/plain": [
       "Index(['trip_id', 'starttime', 'stoptime', 'bikeid', 'tripduration',\n",
       "       'from_station_name', 'to_station_name', 'from_station_id',\n",
       "       'to_station_id', 'usertype', 'gender', 'birthyear'],\n",
       "      dtype='object')"
      ]
     },
     "metadata": {},
     "execution_count": 49
    }
   ],
   "source": [
    "df.columns"
   ]
  },
  {
   "cell_type": "code",
   "execution_count": 53,
   "metadata": {},
   "outputs": [],
   "source": [
    "df1 = df.copy()"
   ]
  },
  {
   "cell_type": "code",
   "execution_count": 54,
   "metadata": {},
   "outputs": [
    {
     "output_type": "execute_result",
     "data": {
      "text/plain": [
       "trip_id                int64\n",
       "starttime             object\n",
       "stoptime              object\n",
       "bikeid                object\n",
       "tripduration         float64\n",
       "from_station_name     object\n",
       "to_station_name       object\n",
       "from_station_id       object\n",
       "to_station_id         object\n",
       "usertype              object\n",
       "gender                object\n",
       "birthyear            float64\n",
       "dtype: object"
      ]
     },
     "metadata": {},
     "execution_count": 54
    }
   ],
   "source": [
    "df1.dtypes"
   ]
  },
  {
   "cell_type": "code",
   "execution_count": 62,
   "metadata": {},
   "outputs": [
    {
     "output_type": "execute_result",
     "data": {
      "text/plain": [
       "1178.3"
      ]
     },
     "metadata": {},
     "execution_count": 62
    }
   ],
   "source": [
    "# What is the average trip duration for a borrowed bicycle?\n",
    "df1.tripduration.mean().round(1)"
   ]
  },
  {
   "cell_type": "code",
   "execution_count": 78,
   "metadata": {},
   "outputs": [],
   "source": [
    "from datetime import datetime, date\n",
    "\n",
    "df1['starttime'] = pd.to_datetime(df1.starttime)\n",
    "df1['stoptime'] = pd.to_datetime(df1.stoptime)\n"
   ]
  },
  {
   "cell_type": "code",
   "execution_count": 71,
   "metadata": {},
   "outputs": [
    {
     "output_type": "execute_result",
     "data": {
      "text/plain": [
       "trip_id                       int64\n",
       "starttime            datetime64[ns]\n",
       "stoptime             datetime64[ns]\n",
       "bikeid                       object\n",
       "tripduration                float64\n",
       "from_station_name            object\n",
       "to_station_name              object\n",
       "from_station_id              object\n",
       "to_station_id                object\n",
       "usertype                     object\n",
       "gender                       object\n",
       "birthyear                   float64\n",
       "dtype: object"
      ]
     },
     "metadata": {},
     "execution_count": 71
    }
   ],
   "source": [
    "df1.dtypes"
   ]
  },
  {
   "cell_type": "code",
   "execution_count": 82,
   "metadata": {},
   "outputs": [],
   "source": [
    "# https://datascienceparichay.com/article/pandas-extract-year-from-datetime-column/\n",
    "year = df1.starttime.dt.year\n",
    "avg_age = year - df1.birthyear"
   ]
  },
  {
   "cell_type": "code",
   "execution_count": 88,
   "metadata": {},
   "outputs": [
    {
     "output_type": "execute_result",
     "data": {
      "text/plain": [
       "35.3"
      ]
     },
     "metadata": {},
     "execution_count": 88
    }
   ],
   "source": [
    "# What’s the most common age of a bicycle-sharer?\n",
    "avg_age.mean().round(1)"
   ]
  },
  {
   "cell_type": "code",
   "execution_count": 110,
   "metadata": {},
   "outputs": [],
   "source": [
    "# Given all the weather data here, find the average precipitation per month, and the median precipitation\n",
    "\n",
    "#wx = pd.read_csv('weather.csv', sep=',', header=0, engine='python', quotechar='\"',  error_bad_lines=False)\n",
    "wx = pd.read_csv('weather.csv')\n"
   ]
  },
  {
   "cell_type": "code",
   "execution_count": 90,
   "metadata": {},
   "outputs": [
    {
     "output_type": "execute_result",
     "data": {
      "text/plain": [
       "(689, 21)"
      ]
     },
     "metadata": {},
     "execution_count": 90
    }
   ],
   "source": [
    "wx.shape"
   ]
  },
  {
   "cell_type": "code",
   "execution_count": 91,
   "metadata": {},
   "outputs": [
    {
     "output_type": "execute_result",
     "data": {
      "text/plain": [
       "         Date  Max_Temperature_F  Mean_Temperature_F  Min_TemperatureF  \\\n",
       "0  10/13/2014                 71                62.0                54   \n",
       "1  10/14/2014                 63                59.0                55   \n",
       "2  10/15/2014                 62                58.0                54   \n",
       "3  10/16/2014                 71                61.0                52   \n",
       "4  10/17/2014                 64                60.0                57   \n",
       "\n",
       "   Max_Dew_Point_F  MeanDew_Point_F  Min_Dewpoint_F  Max_Humidity  \\\n",
       "0               55               51              46            87   \n",
       "1               52               51              50            88   \n",
       "2               53               50              46            87   \n",
       "3               49               46              42            83   \n",
       "4               55               51              41            87   \n",
       "\n",
       "   Mean_Humidity  Min_Humidity  ...  Mean_Sea_Level_Pressure_In  \\\n",
       "0             68            46  ...                       29.79   \n",
       "1             78            63  ...                       29.75   \n",
       "2             77            67  ...                       29.71   \n",
       "3             61            36  ...                       29.95   \n",
       "4             72            46  ...                       29.78   \n",
       "\n",
       "   Min_Sea_Level_Pressure_In  Max_Visibility_Miles  Mean_Visibility_Miles  \\\n",
       "0                      29.65                    10                     10   \n",
       "1                      29.54                    10                      9   \n",
       "2                      29.51                    10                      9   \n",
       "3                      29.81                    10                     10   \n",
       "4                      29.73                    10                     10   \n",
       "\n",
       "   Min_Visibility_Miles  Max_Wind_Speed_MPH  Mean_Wind_Speed_MPH  \\\n",
       "0                     4                  13                    4   \n",
       "1                     3                  10                    5   \n",
       "2                     3                  18                    7   \n",
       "3                    10                   9                    4   \n",
       "4                     6                   8                    3   \n",
       "\n",
       "   Max_Gust_Speed_MPH Precipitation_In  Events  \n",
       "0                  21             0.00    Rain  \n",
       "1                  17             0.11    Rain  \n",
       "2                  25             0.45    Rain  \n",
       "3                   -             0.00    Rain  \n",
       "4                   -             0.14    Rain  \n",
       "\n",
       "[5 rows x 21 columns]"
      ],
      "text/html": "<div>\n<style scoped>\n    .dataframe tbody tr th:only-of-type {\n        vertical-align: middle;\n    }\n\n    .dataframe tbody tr th {\n        vertical-align: top;\n    }\n\n    .dataframe thead th {\n        text-align: right;\n    }\n</style>\n<table border=\"1\" class=\"dataframe\">\n  <thead>\n    <tr style=\"text-align: right;\">\n      <th></th>\n      <th>Date</th>\n      <th>Max_Temperature_F</th>\n      <th>Mean_Temperature_F</th>\n      <th>Min_TemperatureF</th>\n      <th>Max_Dew_Point_F</th>\n      <th>MeanDew_Point_F</th>\n      <th>Min_Dewpoint_F</th>\n      <th>Max_Humidity</th>\n      <th>Mean_Humidity</th>\n      <th>Min_Humidity</th>\n      <th>...</th>\n      <th>Mean_Sea_Level_Pressure_In</th>\n      <th>Min_Sea_Level_Pressure_In</th>\n      <th>Max_Visibility_Miles</th>\n      <th>Mean_Visibility_Miles</th>\n      <th>Min_Visibility_Miles</th>\n      <th>Max_Wind_Speed_MPH</th>\n      <th>Mean_Wind_Speed_MPH</th>\n      <th>Max_Gust_Speed_MPH</th>\n      <th>Precipitation_In</th>\n      <th>Events</th>\n    </tr>\n  </thead>\n  <tbody>\n    <tr>\n      <th>0</th>\n      <td>10/13/2014</td>\n      <td>71</td>\n      <td>62.0</td>\n      <td>54</td>\n      <td>55</td>\n      <td>51</td>\n      <td>46</td>\n      <td>87</td>\n      <td>68</td>\n      <td>46</td>\n      <td>...</td>\n      <td>29.79</td>\n      <td>29.65</td>\n      <td>10</td>\n      <td>10</td>\n      <td>4</td>\n      <td>13</td>\n      <td>4</td>\n      <td>21</td>\n      <td>0.00</td>\n      <td>Rain</td>\n    </tr>\n    <tr>\n      <th>1</th>\n      <td>10/14/2014</td>\n      <td>63</td>\n      <td>59.0</td>\n      <td>55</td>\n      <td>52</td>\n      <td>51</td>\n      <td>50</td>\n      <td>88</td>\n      <td>78</td>\n      <td>63</td>\n      <td>...</td>\n      <td>29.75</td>\n      <td>29.54</td>\n      <td>10</td>\n      <td>9</td>\n      <td>3</td>\n      <td>10</td>\n      <td>5</td>\n      <td>17</td>\n      <td>0.11</td>\n      <td>Rain</td>\n    </tr>\n    <tr>\n      <th>2</th>\n      <td>10/15/2014</td>\n      <td>62</td>\n      <td>58.0</td>\n      <td>54</td>\n      <td>53</td>\n      <td>50</td>\n      <td>46</td>\n      <td>87</td>\n      <td>77</td>\n      <td>67</td>\n      <td>...</td>\n      <td>29.71</td>\n      <td>29.51</td>\n      <td>10</td>\n      <td>9</td>\n      <td>3</td>\n      <td>18</td>\n      <td>7</td>\n      <td>25</td>\n      <td>0.45</td>\n      <td>Rain</td>\n    </tr>\n    <tr>\n      <th>3</th>\n      <td>10/16/2014</td>\n      <td>71</td>\n      <td>61.0</td>\n      <td>52</td>\n      <td>49</td>\n      <td>46</td>\n      <td>42</td>\n      <td>83</td>\n      <td>61</td>\n      <td>36</td>\n      <td>...</td>\n      <td>29.95</td>\n      <td>29.81</td>\n      <td>10</td>\n      <td>10</td>\n      <td>10</td>\n      <td>9</td>\n      <td>4</td>\n      <td>-</td>\n      <td>0.00</td>\n      <td>Rain</td>\n    </tr>\n    <tr>\n      <th>4</th>\n      <td>10/17/2014</td>\n      <td>64</td>\n      <td>60.0</td>\n      <td>57</td>\n      <td>55</td>\n      <td>51</td>\n      <td>41</td>\n      <td>87</td>\n      <td>72</td>\n      <td>46</td>\n      <td>...</td>\n      <td>29.78</td>\n      <td>29.73</td>\n      <td>10</td>\n      <td>10</td>\n      <td>6</td>\n      <td>8</td>\n      <td>3</td>\n      <td>-</td>\n      <td>0.14</td>\n      <td>Rain</td>\n    </tr>\n  </tbody>\n</table>\n<p>5 rows × 21 columns</p>\n</div>"
     },
     "metadata": {},
     "execution_count": 91
    }
   ],
   "source": [
    "wx.head(5)"
   ]
  },
  {
   "cell_type": "code",
   "execution_count": 92,
   "metadata": {},
   "outputs": [
    {
     "output_type": "execute_result",
     "data": {
      "text/plain": [
       "Date                           object\n",
       "Max_Temperature_F               int64\n",
       "Mean_Temperature_F            float64\n",
       "Min_TemperatureF                int64\n",
       "Max_Dew_Point_F                 int64\n",
       "MeanDew_Point_F                 int64\n",
       "Min_Dewpoint_F                  int64\n",
       "Max_Humidity                    int64\n",
       "Mean_Humidity                   int64\n",
       "Min_Humidity                    int64\n",
       "Max_Sea_Level_Pressure_In     float64\n",
       "Mean_Sea_Level_Pressure_In    float64\n",
       "Min_Sea_Level_Pressure_In     float64\n",
       "Max_Visibility_Miles            int64\n",
       "Mean_Visibility_Miles           int64\n",
       "Min_Visibility_Miles            int64\n",
       "Max_Wind_Speed_MPH              int64\n",
       "Mean_Wind_Speed_MPH             int64\n",
       "Max_Gust_Speed_MPH             object\n",
       "Precipitation_In              float64\n",
       "Events                         object\n",
       "dtype: object"
      ]
     },
     "metadata": {},
     "execution_count": 92
    }
   ],
   "source": [
    "wx.dtypes"
   ]
  },
  {
   "cell_type": "code",
   "execution_count": 96,
   "metadata": {},
   "outputs": [],
   "source": [
    "wx1 = wx.copy()"
   ]
  },
  {
   "cell_type": "code",
   "execution_count": 97,
   "metadata": {},
   "outputs": [],
   "source": [
    "wx1['Date'] = pd.to_datetime(wx1.Date)"
   ]
  },
  {
   "cell_type": "code",
   "execution_count": 98,
   "metadata": {},
   "outputs": [
    {
     "output_type": "execute_result",
     "data": {
      "text/plain": [
       "Date                          datetime64[ns]\n",
       "Max_Temperature_F                      int64\n",
       "Mean_Temperature_F                   float64\n",
       "Min_TemperatureF                       int64\n",
       "Max_Dew_Point_F                        int64\n",
       "MeanDew_Point_F                        int64\n",
       "Min_Dewpoint_F                         int64\n",
       "Max_Humidity                           int64\n",
       "Mean_Humidity                          int64\n",
       "Min_Humidity                           int64\n",
       "Max_Sea_Level_Pressure_In            float64\n",
       "Mean_Sea_Level_Pressure_In           float64\n",
       "Min_Sea_Level_Pressure_In            float64\n",
       "Max_Visibility_Miles                   int64\n",
       "Mean_Visibility_Miles                  int64\n",
       "Min_Visibility_Miles                   int64\n",
       "Max_Wind_Speed_MPH                     int64\n",
       "Mean_Wind_Speed_MPH                    int64\n",
       "Max_Gust_Speed_MPH                    object\n",
       "Precipitation_In                     float64\n",
       "Events                                object\n",
       "dtype: object"
      ]
     },
     "metadata": {},
     "execution_count": 98
    }
   ],
   "source": [
    "wx1.dtypes"
   ]
  },
  {
   "cell_type": "code",
   "execution_count": 101,
   "metadata": {},
   "outputs": [],
   "source": [
    "wx1['Month'] = wx1.Date.dt.month"
   ]
  },
  {
   "cell_type": "code",
   "execution_count": 174,
   "metadata": {},
   "outputs": [
    {
     "output_type": "execute_result",
     "data": {
      "text/plain": [
       "       Precipitation_In\n",
       "Month                  \n",
       "12                14.65\n",
       "11                11.27\n",
       "3                  9.73\n",
       "2                  9.60\n",
       "10                 9.45\n",
       "1                  8.90\n",
       "4                  3.08\n",
       "6                  1.83\n",
       "9                  1.23\n",
       "8                  1.13\n",
       "5                  0.77\n",
       "7                  0.75"
      ],
      "text/html": "<div>\n<style scoped>\n    .dataframe tbody tr th:only-of-type {\n        vertical-align: middle;\n    }\n\n    .dataframe tbody tr th {\n        vertical-align: top;\n    }\n\n    .dataframe thead th {\n        text-align: right;\n    }\n</style>\n<table border=\"1\" class=\"dataframe\">\n  <thead>\n    <tr style=\"text-align: right;\">\n      <th></th>\n      <th>Precipitation_In</th>\n    </tr>\n    <tr>\n      <th>Month</th>\n      <th></th>\n    </tr>\n  </thead>\n  <tbody>\n    <tr>\n      <th>12</th>\n      <td>14.65</td>\n    </tr>\n    <tr>\n      <th>11</th>\n      <td>11.27</td>\n    </tr>\n    <tr>\n      <th>3</th>\n      <td>9.73</td>\n    </tr>\n    <tr>\n      <th>2</th>\n      <td>9.60</td>\n    </tr>\n    <tr>\n      <th>10</th>\n      <td>9.45</td>\n    </tr>\n    <tr>\n      <th>1</th>\n      <td>8.90</td>\n    </tr>\n    <tr>\n      <th>4</th>\n      <td>3.08</td>\n    </tr>\n    <tr>\n      <th>6</th>\n      <td>1.83</td>\n    </tr>\n    <tr>\n      <th>9</th>\n      <td>1.23</td>\n    </tr>\n    <tr>\n      <th>8</th>\n      <td>1.13</td>\n    </tr>\n    <tr>\n      <th>5</th>\n      <td>0.77</td>\n    </tr>\n    <tr>\n      <th>7</th>\n      <td>0.75</td>\n    </tr>\n  </tbody>\n</table>\n</div>"
     },
     "metadata": {},
     "execution_count": 174
    }
   ],
   "source": [
    "# Given all the weather data here, find the average precipitation per month, and the median precipitation.\n",
    "\n",
    "wx1.pivot_table(index='Month', values='Precipitation_In', aggfunc='sum').round(3).sort_values('Precipitation_In',ascending=False)[:12]"
   ]
  },
  {
   "cell_type": "code",
   "execution_count": 176,
   "metadata": {},
   "outputs": [
    {
     "output_type": "execute_result",
     "data": {
      "text/plain": [
       "       Precipitation_In\n",
       "Month                  \n",
       "12                0.236\n",
       "10                0.189\n",
       "11                0.188\n",
       "2                 0.168\n",
       "3                 0.157\n",
       "1                 0.144\n",
       "4                 0.051\n",
       "9                 0.041\n",
       "6                 0.031\n",
       "8                 0.018\n",
       "5                 0.012\n",
       "7                 0.012"
      ],
      "text/html": "<div>\n<style scoped>\n    .dataframe tbody tr th:only-of-type {\n        vertical-align: middle;\n    }\n\n    .dataframe tbody tr th {\n        vertical-align: top;\n    }\n\n    .dataframe thead th {\n        text-align: right;\n    }\n</style>\n<table border=\"1\" class=\"dataframe\">\n  <thead>\n    <tr style=\"text-align: right;\">\n      <th></th>\n      <th>Precipitation_In</th>\n    </tr>\n    <tr>\n      <th>Month</th>\n      <th></th>\n    </tr>\n  </thead>\n  <tbody>\n    <tr>\n      <th>12</th>\n      <td>0.236</td>\n    </tr>\n    <tr>\n      <th>10</th>\n      <td>0.189</td>\n    </tr>\n    <tr>\n      <th>11</th>\n      <td>0.188</td>\n    </tr>\n    <tr>\n      <th>2</th>\n      <td>0.168</td>\n    </tr>\n    <tr>\n      <th>3</th>\n      <td>0.157</td>\n    </tr>\n    <tr>\n      <th>1</th>\n      <td>0.144</td>\n    </tr>\n    <tr>\n      <th>4</th>\n      <td>0.051</td>\n    </tr>\n    <tr>\n      <th>9</th>\n      <td>0.041</td>\n    </tr>\n    <tr>\n      <th>6</th>\n      <td>0.031</td>\n    </tr>\n    <tr>\n      <th>8</th>\n      <td>0.018</td>\n    </tr>\n    <tr>\n      <th>5</th>\n      <td>0.012</td>\n    </tr>\n    <tr>\n      <th>7</th>\n      <td>0.012</td>\n    </tr>\n  </tbody>\n</table>\n</div>"
     },
     "metadata": {},
     "execution_count": 176
    }
   ],
   "source": [
    "# Average precipitation in\n",
    "wx1.pivot_table(index='Month', values='Precipitation_In', aggfunc='mean').round(3).sort_values('Precipitation_In',ascending=False)[:12]"
   ]
  },
  {
   "cell_type": "code",
   "execution_count": 177,
   "metadata": {},
   "outputs": [
    {
     "output_type": "execute_result",
     "data": {
      "text/plain": [
       "       Precipitation_In\n",
       "Month                  \n",
       "12                0.100\n",
       "2                 0.040\n",
       "10                0.040\n",
       "11                0.035\n",
       "3                 0.025\n",
       "1                 0.020\n",
       "4                 0.000\n",
       "5                 0.000\n",
       "6                 0.000\n",
       "7                 0.000\n",
       "8                 0.000\n",
       "9                 0.000"
      ],
      "text/html": "<div>\n<style scoped>\n    .dataframe tbody tr th:only-of-type {\n        vertical-align: middle;\n    }\n\n    .dataframe tbody tr th {\n        vertical-align: top;\n    }\n\n    .dataframe thead th {\n        text-align: right;\n    }\n</style>\n<table border=\"1\" class=\"dataframe\">\n  <thead>\n    <tr style=\"text-align: right;\">\n      <th></th>\n      <th>Precipitation_In</th>\n    </tr>\n    <tr>\n      <th>Month</th>\n      <th></th>\n    </tr>\n  </thead>\n  <tbody>\n    <tr>\n      <th>12</th>\n      <td>0.100</td>\n    </tr>\n    <tr>\n      <th>2</th>\n      <td>0.040</td>\n    </tr>\n    <tr>\n      <th>10</th>\n      <td>0.040</td>\n    </tr>\n    <tr>\n      <th>11</th>\n      <td>0.035</td>\n    </tr>\n    <tr>\n      <th>3</th>\n      <td>0.025</td>\n    </tr>\n    <tr>\n      <th>1</th>\n      <td>0.020</td>\n    </tr>\n    <tr>\n      <th>4</th>\n      <td>0.000</td>\n    </tr>\n    <tr>\n      <th>5</th>\n      <td>0.000</td>\n    </tr>\n    <tr>\n      <th>6</th>\n      <td>0.000</td>\n    </tr>\n    <tr>\n      <th>7</th>\n      <td>0.000</td>\n    </tr>\n    <tr>\n      <th>8</th>\n      <td>0.000</td>\n    </tr>\n    <tr>\n      <th>9</th>\n      <td>0.000</td>\n    </tr>\n  </tbody>\n</table>\n</div>"
     },
     "metadata": {},
     "execution_count": 177
    }
   ],
   "source": [
    "# Median precipitation in\n",
    "wx1.pivot_table(index='Month', values='Precipitation_In', aggfunc='median').round(3).sort_values('Precipitation_In',ascending=False)[:12]"
   ]
  },
  {
   "cell_type": "code",
   "execution_count": 113,
   "metadata": {},
   "outputs": [],
   "source": [
    "#wx = pd.read_csv('weather.csv', sep=',', header=0, engine='python', quotechar='\"',  error_bad_lines=False)\n",
    "st = pd.read_csv('station.csv')"
   ]
  },
  {
   "cell_type": "code",
   "execution_count": 119,
   "metadata": {},
   "outputs": [],
   "source": [
    "st1 = st.copy()"
   ]
  },
  {
   "cell_type": "code",
   "execution_count": 121,
   "metadata": {},
   "outputs": [
    {
     "output_type": "execute_result",
     "data": {
      "text/plain": [
       "count    58.000000\n",
       "mean     16.517241\n",
       "std       5.117021\n",
       "min       0.000000\n",
       "25%      16.000000\n",
       "50%      18.000000\n",
       "75%      18.000000\n",
       "max      26.000000\n",
       "Name: current_dockcount, dtype: float64"
      ]
     },
     "metadata": {},
     "execution_count": 121
    }
   ],
   "source": [
    "st1.current_dockcount.describe()"
   ]
  },
  {
   "cell_type": "code",
   "execution_count": 124,
   "metadata": {},
   "outputs": [
    {
     "output_type": "execute_result",
     "data": {
      "text/plain": [
       "trip_id                       int64\n",
       "starttime            datetime64[ns]\n",
       "stoptime             datetime64[ns]\n",
       "bikeid                       object\n",
       "tripduration                float64\n",
       "from_station_name            object\n",
       "to_station_name              object\n",
       "from_station_id              object\n",
       "to_station_id                object\n",
       "usertype                     object\n",
       "gender                       object\n",
       "birthyear                   float64\n",
       "dtype: object"
      ]
     },
     "metadata": {},
     "execution_count": 124
    }
   ],
   "source": [
    "df1.dtypes"
   ]
  },
  {
   "cell_type": "code",
   "execution_count": 126,
   "metadata": {},
   "outputs": [],
   "source": [
    "df1['trip_month'] = df1.starttime.dt.month\n",
    "df1['trip_year'] = df1.starttime.dt.year"
   ]
  },
  {
   "cell_type": "code",
   "execution_count": 141,
   "metadata": {},
   "outputs": [],
   "source": [
    "st1['bike_delta'] = st1.current_dockcount - st1.install_dockcount"
   ]
  },
  {
   "cell_type": "code",
   "execution_count": 180,
   "metadata": {},
   "outputs": [],
   "source": [
    "delta = st1[st1['bike_delta'] != 0][['modification_date','bike_delta']].sort_values('modification_date')"
   ]
  },
  {
   "cell_type": "code",
   "execution_count": 171,
   "metadata": {},
   "outputs": [
    {
     "output_type": "display_data",
     "data": {
      "text/plain": "<Figure size 1080x360 with 1 Axes>",
      "image/svg+xml": "<?xml version=\"1.0\" encoding=\"utf-8\" standalone=\"no\"?>\n<!DOCTYPE svg PUBLIC \"-//W3C//DTD SVG 1.1//EN\"\n  \"http://www.w3.org/Graphics/SVG/1.1/DTD/svg11.dtd\">\n<svg height=\"331.9525pt\" version=\"1.1\" viewBox=\"0 0 893.460938 331.9525\" width=\"893.460938pt\" xmlns=\"http://www.w3.org/2000/svg\" xmlns:xlink=\"http://www.w3.org/1999/xlink\">\n <metadata>\n  <rdf:RDF xmlns:cc=\"http://creativecommons.org/ns#\" xmlns:dc=\"http://purl.org/dc/elements/1.1/\" xmlns:rdf=\"http://www.w3.org/1999/02/22-rdf-syntax-ns#\">\n   <cc:Work>\n    <dc:type rdf:resource=\"http://purl.org/dc/dcmitype/StillImage\"/>\n    <dc:date>2021-07-15T17:41:26.704048</dc:date>\n    <dc:format>image/svg+xml</dc:format>\n    <dc:creator>\n     <cc:Agent>\n      <dc:title>Matplotlib v3.4.2, https://matplotlib.org/</dc:title>\n     </cc:Agent>\n    </dc:creator>\n   </cc:Work>\n  </rdf:RDF>\n </metadata>\n <defs>\n  <style type=\"text/css\">*{stroke-linecap:butt;stroke-linejoin:round;}</style>\n </defs>\n <g id=\"figure_1\">\n  <g id=\"patch_1\">\n   <path d=\"M 0 331.9525 \nL 893.460938 331.9525 \nL 893.460938 0 \nL 0 0 \nz\n\" style=\"fill:none;\"/>\n  </g>\n  <g id=\"axes_1\">\n   <g id=\"patch_2\">\n    <path d=\"M 49.260938 294.118125 \nL 886.260937 294.118125 \nL 886.260937 22.318125 \nL 49.260938 22.318125 \nz\n\" style=\"fill:#ffffff;\"/>\n   </g>\n   <g id=\"matplotlib.axis_1\">\n    <g id=\"xtick_1\">\n     <g id=\"line2d_1\">\n      <defs>\n       <path d=\"M 0 0 \nL 0 3.5 \n\" id=\"m8e924c4e5f\" style=\"stroke:#000000;stroke-width:0.8;\"/>\n      </defs>\n      <g>\n       <use style=\"stroke:#000000;stroke-width:0.8;\" x=\"49.260938\" xlink:href=\"#m8e924c4e5f\" y=\"294.118125\"/>\n      </g>\n     </g>\n     <g id=\"text_1\">\n      <!-- 10/29/2015 -->\n      <g transform=\"translate(20.442188 308.716563)scale(0.1 -0.1)\">\n       <defs>\n        <path d=\"M 794 531 \nL 1825 531 \nL 1825 4091 \nL 703 3866 \nL 703 4441 \nL 1819 4666 \nL 2450 4666 \nL 2450 531 \nL 3481 531 \nL 3481 0 \nL 794 0 \nL 794 531 \nz\n\" id=\"DejaVuSans-31\" transform=\"scale(0.015625)\"/>\n        <path d=\"M 2034 4250 \nQ 1547 4250 1301 3770 \nQ 1056 3291 1056 2328 \nQ 1056 1369 1301 889 \nQ 1547 409 2034 409 \nQ 2525 409 2770 889 \nQ 3016 1369 3016 2328 \nQ 3016 3291 2770 3770 \nQ 2525 4250 2034 4250 \nz\nM 2034 4750 \nQ 2819 4750 3233 4129 \nQ 3647 3509 3647 2328 \nQ 3647 1150 3233 529 \nQ 2819 -91 2034 -91 \nQ 1250 -91 836 529 \nQ 422 1150 422 2328 \nQ 422 3509 836 4129 \nQ 1250 4750 2034 4750 \nz\n\" id=\"DejaVuSans-30\" transform=\"scale(0.015625)\"/>\n        <path d=\"M 1625 4666 \nL 2156 4666 \nL 531 -594 \nL 0 -594 \nL 1625 4666 \nz\n\" id=\"DejaVuSans-2f\" transform=\"scale(0.015625)\"/>\n        <path d=\"M 1228 531 \nL 3431 531 \nL 3431 0 \nL 469 0 \nL 469 531 \nQ 828 903 1448 1529 \nQ 2069 2156 2228 2338 \nQ 2531 2678 2651 2914 \nQ 2772 3150 2772 3378 \nQ 2772 3750 2511 3984 \nQ 2250 4219 1831 4219 \nQ 1534 4219 1204 4116 \nQ 875 4013 500 3803 \nL 500 4441 \nQ 881 4594 1212 4672 \nQ 1544 4750 1819 4750 \nQ 2544 4750 2975 4387 \nQ 3406 4025 3406 3419 \nQ 3406 3131 3298 2873 \nQ 3191 2616 2906 2266 \nQ 2828 2175 2409 1742 \nQ 1991 1309 1228 531 \nz\n\" id=\"DejaVuSans-32\" transform=\"scale(0.015625)\"/>\n        <path d=\"M 703 97 \nL 703 672 \nQ 941 559 1184 500 \nQ 1428 441 1663 441 \nQ 2288 441 2617 861 \nQ 2947 1281 2994 2138 \nQ 2813 1869 2534 1725 \nQ 2256 1581 1919 1581 \nQ 1219 1581 811 2004 \nQ 403 2428 403 3163 \nQ 403 3881 828 4315 \nQ 1253 4750 1959 4750 \nQ 2769 4750 3195 4129 \nQ 3622 3509 3622 2328 \nQ 3622 1225 3098 567 \nQ 2575 -91 1691 -91 \nQ 1453 -91 1209 -44 \nQ 966 3 703 97 \nz\nM 1959 2075 \nQ 2384 2075 2632 2365 \nQ 2881 2656 2881 3163 \nQ 2881 3666 2632 3958 \nQ 2384 4250 1959 4250 \nQ 1534 4250 1286 3958 \nQ 1038 3666 1038 3163 \nQ 1038 2656 1286 2365 \nQ 1534 2075 1959 2075 \nz\n\" id=\"DejaVuSans-39\" transform=\"scale(0.015625)\"/>\n        <path d=\"M 691 4666 \nL 3169 4666 \nL 3169 4134 \nL 1269 4134 \nL 1269 2991 \nQ 1406 3038 1543 3061 \nQ 1681 3084 1819 3084 \nQ 2600 3084 3056 2656 \nQ 3513 2228 3513 1497 \nQ 3513 744 3044 326 \nQ 2575 -91 1722 -91 \nQ 1428 -91 1123 -41 \nQ 819 9 494 109 \nL 494 744 \nQ 775 591 1075 516 \nQ 1375 441 1709 441 \nQ 2250 441 2565 725 \nQ 2881 1009 2881 1497 \nQ 2881 1984 2565 2268 \nQ 2250 2553 1709 2553 \nQ 1456 2553 1204 2497 \nQ 953 2441 691 2322 \nL 691 4666 \nz\n\" id=\"DejaVuSans-35\" transform=\"scale(0.015625)\"/>\n       </defs>\n       <use xlink:href=\"#DejaVuSans-31\"/>\n       <use x=\"63.623047\" xlink:href=\"#DejaVuSans-30\"/>\n       <use x=\"127.246094\" xlink:href=\"#DejaVuSans-2f\"/>\n       <use x=\"160.9375\" xlink:href=\"#DejaVuSans-32\"/>\n       <use x=\"224.560547\" xlink:href=\"#DejaVuSans-39\"/>\n       <use x=\"288.183594\" xlink:href=\"#DejaVuSans-2f\"/>\n       <use x=\"321.875\" xlink:href=\"#DejaVuSans-32\"/>\n       <use x=\"385.498047\" xlink:href=\"#DejaVuSans-30\"/>\n       <use x=\"449.121094\" xlink:href=\"#DejaVuSans-31\"/>\n       <use x=\"512.744141\" xlink:href=\"#DejaVuSans-35\"/>\n      </g>\n     </g>\n    </g>\n    <g id=\"xtick_2\">\n     <g id=\"line2d_2\">\n      <g>\n       <use style=\"stroke:#000000;stroke-width:0.8;\" x=\"113.645553\" xlink:href=\"#m8e924c4e5f\" y=\"294.118125\"/>\n      </g>\n     </g>\n     <g id=\"text_2\">\n      <!-- 11/2/2015 -->\n      <g transform=\"translate(88.008053 308.716563)scale(0.1 -0.1)\">\n       <use xlink:href=\"#DejaVuSans-31\"/>\n       <use x=\"63.623047\" xlink:href=\"#DejaVuSans-31\"/>\n       <use x=\"127.246094\" xlink:href=\"#DejaVuSans-2f\"/>\n       <use x=\"160.9375\" xlink:href=\"#DejaVuSans-32\"/>\n       <use x=\"224.560547\" xlink:href=\"#DejaVuSans-2f\"/>\n       <use x=\"258.251953\" xlink:href=\"#DejaVuSans-32\"/>\n       <use x=\"321.875\" xlink:href=\"#DejaVuSans-30\"/>\n       <use x=\"385.498047\" xlink:href=\"#DejaVuSans-31\"/>\n       <use x=\"449.121094\" xlink:href=\"#DejaVuSans-35\"/>\n      </g>\n     </g>\n    </g>\n    <g id=\"xtick_3\">\n     <g id=\"line2d_3\">\n      <g>\n       <use style=\"stroke:#000000;stroke-width:0.8;\" x=\"178.030168\" xlink:href=\"#m8e924c4e5f\" y=\"294.118125\"/>\n      </g>\n     </g>\n     <g id=\"text_3\">\n      <!-- 11/9/2015 -->\n      <g transform=\"translate(152.392668 308.716563)scale(0.1 -0.1)\">\n       <use xlink:href=\"#DejaVuSans-31\"/>\n       <use x=\"63.623047\" xlink:href=\"#DejaVuSans-31\"/>\n       <use x=\"127.246094\" xlink:href=\"#DejaVuSans-2f\"/>\n       <use x=\"160.9375\" xlink:href=\"#DejaVuSans-39\"/>\n       <use x=\"224.560547\" xlink:href=\"#DejaVuSans-2f\"/>\n       <use x=\"258.251953\" xlink:href=\"#DejaVuSans-32\"/>\n       <use x=\"321.875\" xlink:href=\"#DejaVuSans-30\"/>\n       <use x=\"385.498047\" xlink:href=\"#DejaVuSans-31\"/>\n       <use x=\"449.121094\" xlink:href=\"#DejaVuSans-35\"/>\n      </g>\n     </g>\n    </g>\n    <g id=\"xtick_4\">\n     <g id=\"line2d_4\">\n      <g>\n       <use style=\"stroke:#000000;stroke-width:0.8;\" x=\"242.414784\" xlink:href=\"#m8e924c4e5f\" y=\"294.118125\"/>\n      </g>\n     </g>\n     <g id=\"text_4\">\n      <!-- 2/20/2015 -->\n      <g transform=\"translate(216.777284 308.716563)scale(0.1 -0.1)\">\n       <use xlink:href=\"#DejaVuSans-32\"/>\n       <use x=\"63.623047\" xlink:href=\"#DejaVuSans-2f\"/>\n       <use x=\"97.314453\" xlink:href=\"#DejaVuSans-32\"/>\n       <use x=\"160.9375\" xlink:href=\"#DejaVuSans-30\"/>\n       <use x=\"224.560547\" xlink:href=\"#DejaVuSans-2f\"/>\n       <use x=\"258.251953\" xlink:href=\"#DejaVuSans-32\"/>\n       <use x=\"321.875\" xlink:href=\"#DejaVuSans-30\"/>\n       <use x=\"385.498047\" xlink:href=\"#DejaVuSans-31\"/>\n       <use x=\"449.121094\" xlink:href=\"#DejaVuSans-35\"/>\n      </g>\n     </g>\n    </g>\n    <g id=\"xtick_5\">\n     <g id=\"line2d_5\">\n      <g>\n       <use style=\"stroke:#000000;stroke-width:0.8;\" x=\"306.799399\" xlink:href=\"#m8e924c4e5f\" y=\"294.118125\"/>\n      </g>\n     </g>\n     <g id=\"text_5\">\n      <!-- 2/23/2015 -->\n      <g transform=\"translate(281.161899 308.716563)scale(0.1 -0.1)\">\n       <defs>\n        <path d=\"M 2597 2516 \nQ 3050 2419 3304 2112 \nQ 3559 1806 3559 1356 \nQ 3559 666 3084 287 \nQ 2609 -91 1734 -91 \nQ 1441 -91 1130 -33 \nQ 819 25 488 141 \nL 488 750 \nQ 750 597 1062 519 \nQ 1375 441 1716 441 \nQ 2309 441 2620 675 \nQ 2931 909 2931 1356 \nQ 2931 1769 2642 2001 \nQ 2353 2234 1838 2234 \nL 1294 2234 \nL 1294 2753 \nL 1863 2753 \nQ 2328 2753 2575 2939 \nQ 2822 3125 2822 3475 \nQ 2822 3834 2567 4026 \nQ 2313 4219 1838 4219 \nQ 1578 4219 1281 4162 \nQ 984 4106 628 3988 \nL 628 4550 \nQ 988 4650 1302 4700 \nQ 1616 4750 1894 4750 \nQ 2613 4750 3031 4423 \nQ 3450 4097 3450 3541 \nQ 3450 3153 3228 2886 \nQ 3006 2619 2597 2516 \nz\n\" id=\"DejaVuSans-33\" transform=\"scale(0.015625)\"/>\n       </defs>\n       <use xlink:href=\"#DejaVuSans-32\"/>\n       <use x=\"63.623047\" xlink:href=\"#DejaVuSans-2f\"/>\n       <use x=\"97.314453\" xlink:href=\"#DejaVuSans-32\"/>\n       <use x=\"160.9375\" xlink:href=\"#DejaVuSans-33\"/>\n       <use x=\"224.560547\" xlink:href=\"#DejaVuSans-2f\"/>\n       <use x=\"258.251953\" xlink:href=\"#DejaVuSans-32\"/>\n       <use x=\"321.875\" xlink:href=\"#DejaVuSans-30\"/>\n       <use x=\"385.498047\" xlink:href=\"#DejaVuSans-31\"/>\n       <use x=\"449.121094\" xlink:href=\"#DejaVuSans-35\"/>\n      </g>\n     </g>\n    </g>\n    <g id=\"xtick_6\">\n     <g id=\"line2d_6\">\n      <g>\n       <use style=\"stroke:#000000;stroke-width:0.8;\" x=\"371.184014\" xlink:href=\"#m8e924c4e5f\" y=\"294.118125\"/>\n      </g>\n     </g>\n     <g id=\"text_6\">\n      <!-- 2/24/2015 -->\n      <g transform=\"translate(345.546514 308.716563)scale(0.1 -0.1)\">\n       <defs>\n        <path d=\"M 2419 4116 \nL 825 1625 \nL 2419 1625 \nL 2419 4116 \nz\nM 2253 4666 \nL 3047 4666 \nL 3047 1625 \nL 3713 1625 \nL 3713 1100 \nL 3047 1100 \nL 3047 0 \nL 2419 0 \nL 2419 1100 \nL 313 1100 \nL 313 1709 \nL 2253 4666 \nz\n\" id=\"DejaVuSans-34\" transform=\"scale(0.015625)\"/>\n       </defs>\n       <use xlink:href=\"#DejaVuSans-32\"/>\n       <use x=\"63.623047\" xlink:href=\"#DejaVuSans-2f\"/>\n       <use x=\"97.314453\" xlink:href=\"#DejaVuSans-32\"/>\n       <use x=\"160.9375\" xlink:href=\"#DejaVuSans-34\"/>\n       <use x=\"224.560547\" xlink:href=\"#DejaVuSans-2f\"/>\n       <use x=\"258.251953\" xlink:href=\"#DejaVuSans-32\"/>\n       <use x=\"321.875\" xlink:href=\"#DejaVuSans-30\"/>\n       <use x=\"385.498047\" xlink:href=\"#DejaVuSans-31\"/>\n       <use x=\"449.121094\" xlink:href=\"#DejaVuSans-35\"/>\n      </g>\n     </g>\n    </g>\n    <g id=\"xtick_7\">\n     <g id=\"line2d_7\">\n      <g>\n       <use style=\"stroke:#000000;stroke-width:0.8;\" x=\"435.56863\" xlink:href=\"#m8e924c4e5f\" y=\"294.118125\"/>\n      </g>\n     </g>\n     <g id=\"text_7\">\n      <!-- 3/13/2015 -->\n      <g transform=\"translate(409.93113 308.716563)scale(0.1 -0.1)\">\n       <use xlink:href=\"#DejaVuSans-33\"/>\n       <use x=\"63.623047\" xlink:href=\"#DejaVuSans-2f\"/>\n       <use x=\"97.314453\" xlink:href=\"#DejaVuSans-31\"/>\n       <use x=\"160.9375\" xlink:href=\"#DejaVuSans-33\"/>\n       <use x=\"224.560547\" xlink:href=\"#DejaVuSans-2f\"/>\n       <use x=\"258.251953\" xlink:href=\"#DejaVuSans-32\"/>\n       <use x=\"321.875\" xlink:href=\"#DejaVuSans-30\"/>\n       <use x=\"385.498047\" xlink:href=\"#DejaVuSans-31\"/>\n       <use x=\"449.121094\" xlink:href=\"#DejaVuSans-35\"/>\n      </g>\n     </g>\n    </g>\n    <g id=\"xtick_8\">\n     <g id=\"line2d_8\">\n      <g>\n       <use style=\"stroke:#000000;stroke-width:0.8;\" x=\"499.953245\" xlink:href=\"#m8e924c4e5f\" y=\"294.118125\"/>\n      </g>\n     </g>\n     <g id=\"text_8\">\n      <!-- 3/18/2016 -->\n      <g transform=\"translate(474.315745 308.716563)scale(0.1 -0.1)\">\n       <defs>\n        <path d=\"M 2034 2216 \nQ 1584 2216 1326 1975 \nQ 1069 1734 1069 1313 \nQ 1069 891 1326 650 \nQ 1584 409 2034 409 \nQ 2484 409 2743 651 \nQ 3003 894 3003 1313 \nQ 3003 1734 2745 1975 \nQ 2488 2216 2034 2216 \nz\nM 1403 2484 \nQ 997 2584 770 2862 \nQ 544 3141 544 3541 \nQ 544 4100 942 4425 \nQ 1341 4750 2034 4750 \nQ 2731 4750 3128 4425 \nQ 3525 4100 3525 3541 \nQ 3525 3141 3298 2862 \nQ 3072 2584 2669 2484 \nQ 3125 2378 3379 2068 \nQ 3634 1759 3634 1313 \nQ 3634 634 3220 271 \nQ 2806 -91 2034 -91 \nQ 1263 -91 848 271 \nQ 434 634 434 1313 \nQ 434 1759 690 2068 \nQ 947 2378 1403 2484 \nz\nM 1172 3481 \nQ 1172 3119 1398 2916 \nQ 1625 2713 2034 2713 \nQ 2441 2713 2670 2916 \nQ 2900 3119 2900 3481 \nQ 2900 3844 2670 4047 \nQ 2441 4250 2034 4250 \nQ 1625 4250 1398 4047 \nQ 1172 3844 1172 3481 \nz\n\" id=\"DejaVuSans-38\" transform=\"scale(0.015625)\"/>\n        <path d=\"M 2113 2584 \nQ 1688 2584 1439 2293 \nQ 1191 2003 1191 1497 \nQ 1191 994 1439 701 \nQ 1688 409 2113 409 \nQ 2538 409 2786 701 \nQ 3034 994 3034 1497 \nQ 3034 2003 2786 2293 \nQ 2538 2584 2113 2584 \nz\nM 3366 4563 \nL 3366 3988 \nQ 3128 4100 2886 4159 \nQ 2644 4219 2406 4219 \nQ 1781 4219 1451 3797 \nQ 1122 3375 1075 2522 \nQ 1259 2794 1537 2939 \nQ 1816 3084 2150 3084 \nQ 2853 3084 3261 2657 \nQ 3669 2231 3669 1497 \nQ 3669 778 3244 343 \nQ 2819 -91 2113 -91 \nQ 1303 -91 875 529 \nQ 447 1150 447 2328 \nQ 447 3434 972 4092 \nQ 1497 4750 2381 4750 \nQ 2619 4750 2861 4703 \nQ 3103 4656 3366 4563 \nz\n\" id=\"DejaVuSans-36\" transform=\"scale(0.015625)\"/>\n       </defs>\n       <use xlink:href=\"#DejaVuSans-33\"/>\n       <use x=\"63.623047\" xlink:href=\"#DejaVuSans-2f\"/>\n       <use x=\"97.314453\" xlink:href=\"#DejaVuSans-31\"/>\n       <use x=\"160.9375\" xlink:href=\"#DejaVuSans-38\"/>\n       <use x=\"224.560547\" xlink:href=\"#DejaVuSans-2f\"/>\n       <use x=\"258.251953\" xlink:href=\"#DejaVuSans-32\"/>\n       <use x=\"321.875\" xlink:href=\"#DejaVuSans-30\"/>\n       <use x=\"385.498047\" xlink:href=\"#DejaVuSans-31\"/>\n       <use x=\"449.121094\" xlink:href=\"#DejaVuSans-36\"/>\n      </g>\n     </g>\n    </g>\n    <g id=\"xtick_9\">\n     <g id=\"line2d_9\">\n      <g>\n       <use style=\"stroke:#000000;stroke-width:0.8;\" x=\"564.337861\" xlink:href=\"#m8e924c4e5f\" y=\"294.118125\"/>\n      </g>\n     </g>\n     <g id=\"text_9\">\n      <!-- 3/24/2015 -->\n      <g transform=\"translate(538.700361 308.716563)scale(0.1 -0.1)\">\n       <use xlink:href=\"#DejaVuSans-33\"/>\n       <use x=\"63.623047\" xlink:href=\"#DejaVuSans-2f\"/>\n       <use x=\"97.314453\" xlink:href=\"#DejaVuSans-32\"/>\n       <use x=\"160.9375\" xlink:href=\"#DejaVuSans-34\"/>\n       <use x=\"224.560547\" xlink:href=\"#DejaVuSans-2f\"/>\n       <use x=\"258.251953\" xlink:href=\"#DejaVuSans-32\"/>\n       <use x=\"321.875\" xlink:href=\"#DejaVuSans-30\"/>\n       <use x=\"385.498047\" xlink:href=\"#DejaVuSans-31\"/>\n       <use x=\"449.121094\" xlink:href=\"#DejaVuSans-35\"/>\n      </g>\n     </g>\n    </g>\n    <g id=\"xtick_10\">\n     <g id=\"line2d_10\">\n      <g>\n       <use style=\"stroke:#000000;stroke-width:0.8;\" x=\"628.722476\" xlink:href=\"#m8e924c4e5f\" y=\"294.118125\"/>\n      </g>\n     </g>\n     <g id=\"text_10\">\n      <!-- 3/27/2015 -->\n      <g transform=\"translate(603.084976 308.716563)scale(0.1 -0.1)\">\n       <defs>\n        <path d=\"M 525 4666 \nL 3525 4666 \nL 3525 4397 \nL 1831 0 \nL 1172 0 \nL 2766 4134 \nL 525 4134 \nL 525 4666 \nz\n\" id=\"DejaVuSans-37\" transform=\"scale(0.015625)\"/>\n       </defs>\n       <use xlink:href=\"#DejaVuSans-33\"/>\n       <use x=\"63.623047\" xlink:href=\"#DejaVuSans-2f\"/>\n       <use x=\"97.314453\" xlink:href=\"#DejaVuSans-32\"/>\n       <use x=\"160.9375\" xlink:href=\"#DejaVuSans-37\"/>\n       <use x=\"224.560547\" xlink:href=\"#DejaVuSans-2f\"/>\n       <use x=\"258.251953\" xlink:href=\"#DejaVuSans-32\"/>\n       <use x=\"321.875\" xlink:href=\"#DejaVuSans-30\"/>\n       <use x=\"385.498047\" xlink:href=\"#DejaVuSans-31\"/>\n       <use x=\"449.121094\" xlink:href=\"#DejaVuSans-35\"/>\n      </g>\n     </g>\n    </g>\n    <g id=\"xtick_11\">\n     <g id=\"line2d_11\">\n      <g>\n       <use style=\"stroke:#000000;stroke-width:0.8;\" x=\"693.107091\" xlink:href=\"#m8e924c4e5f\" y=\"294.118125\"/>\n      </g>\n     </g>\n     <g id=\"text_11\">\n      <!-- 3/4/2015 -->\n      <g transform=\"translate(670.650841 308.716563)scale(0.1 -0.1)\">\n       <use xlink:href=\"#DejaVuSans-33\"/>\n       <use x=\"63.623047\" xlink:href=\"#DejaVuSans-2f\"/>\n       <use x=\"97.314453\" xlink:href=\"#DejaVuSans-34\"/>\n       <use x=\"160.9375\" xlink:href=\"#DejaVuSans-2f\"/>\n       <use x=\"194.628906\" xlink:href=\"#DejaVuSans-32\"/>\n       <use x=\"258.251953\" xlink:href=\"#DejaVuSans-30\"/>\n       <use x=\"321.875\" xlink:href=\"#DejaVuSans-31\"/>\n       <use x=\"385.498047\" xlink:href=\"#DejaVuSans-35\"/>\n      </g>\n     </g>\n    </g>\n    <g id=\"xtick_12\">\n     <g id=\"line2d_12\">\n      <g>\n       <use style=\"stroke:#000000;stroke-width:0.8;\" x=\"757.491707\" xlink:href=\"#m8e924c4e5f\" y=\"294.118125\"/>\n      </g>\n     </g>\n     <g id=\"text_12\">\n      <!-- 8/9/2016 -->\n      <g transform=\"translate(735.035457 308.716563)scale(0.1 -0.1)\">\n       <use xlink:href=\"#DejaVuSans-38\"/>\n       <use x=\"63.623047\" xlink:href=\"#DejaVuSans-2f\"/>\n       <use x=\"97.314453\" xlink:href=\"#DejaVuSans-39\"/>\n       <use x=\"160.9375\" xlink:href=\"#DejaVuSans-2f\"/>\n       <use x=\"194.628906\" xlink:href=\"#DejaVuSans-32\"/>\n       <use x=\"258.251953\" xlink:href=\"#DejaVuSans-30\"/>\n       <use x=\"321.875\" xlink:href=\"#DejaVuSans-31\"/>\n       <use x=\"385.498047\" xlink:href=\"#DejaVuSans-36\"/>\n      </g>\n     </g>\n    </g>\n    <g id=\"text_13\">\n     <!-- modification_date -->\n     <g transform=\"translate(422.953125 322.394687)scale(0.1 -0.1)\">\n      <defs>\n       <path d=\"M 3328 2828 \nQ 3544 3216 3844 3400 \nQ 4144 3584 4550 3584 \nQ 5097 3584 5394 3201 \nQ 5691 2819 5691 2113 \nL 5691 0 \nL 5113 0 \nL 5113 2094 \nQ 5113 2597 4934 2840 \nQ 4756 3084 4391 3084 \nQ 3944 3084 3684 2787 \nQ 3425 2491 3425 1978 \nL 3425 0 \nL 2847 0 \nL 2847 2094 \nQ 2847 2600 2669 2842 \nQ 2491 3084 2119 3084 \nQ 1678 3084 1418 2786 \nQ 1159 2488 1159 1978 \nL 1159 0 \nL 581 0 \nL 581 3500 \nL 1159 3500 \nL 1159 2956 \nQ 1356 3278 1631 3431 \nQ 1906 3584 2284 3584 \nQ 2666 3584 2933 3390 \nQ 3200 3197 3328 2828 \nz\n\" id=\"DejaVuSans-6d\" transform=\"scale(0.015625)\"/>\n       <path d=\"M 1959 3097 \nQ 1497 3097 1228 2736 \nQ 959 2375 959 1747 \nQ 959 1119 1226 758 \nQ 1494 397 1959 397 \nQ 2419 397 2687 759 \nQ 2956 1122 2956 1747 \nQ 2956 2369 2687 2733 \nQ 2419 3097 1959 3097 \nz\nM 1959 3584 \nQ 2709 3584 3137 3096 \nQ 3566 2609 3566 1747 \nQ 3566 888 3137 398 \nQ 2709 -91 1959 -91 \nQ 1206 -91 779 398 \nQ 353 888 353 1747 \nQ 353 2609 779 3096 \nQ 1206 3584 1959 3584 \nz\n\" id=\"DejaVuSans-6f\" transform=\"scale(0.015625)\"/>\n       <path d=\"M 2906 2969 \nL 2906 4863 \nL 3481 4863 \nL 3481 0 \nL 2906 0 \nL 2906 525 \nQ 2725 213 2448 61 \nQ 2172 -91 1784 -91 \nQ 1150 -91 751 415 \nQ 353 922 353 1747 \nQ 353 2572 751 3078 \nQ 1150 3584 1784 3584 \nQ 2172 3584 2448 3432 \nQ 2725 3281 2906 2969 \nz\nM 947 1747 \nQ 947 1113 1208 752 \nQ 1469 391 1925 391 \nQ 2381 391 2643 752 \nQ 2906 1113 2906 1747 \nQ 2906 2381 2643 2742 \nQ 2381 3103 1925 3103 \nQ 1469 3103 1208 2742 \nQ 947 2381 947 1747 \nz\n\" id=\"DejaVuSans-64\" transform=\"scale(0.015625)\"/>\n       <path d=\"M 603 3500 \nL 1178 3500 \nL 1178 0 \nL 603 0 \nL 603 3500 \nz\nM 603 4863 \nL 1178 4863 \nL 1178 4134 \nL 603 4134 \nL 603 4863 \nz\n\" id=\"DejaVuSans-69\" transform=\"scale(0.015625)\"/>\n       <path d=\"M 2375 4863 \nL 2375 4384 \nL 1825 4384 \nQ 1516 4384 1395 4259 \nQ 1275 4134 1275 3809 \nL 1275 3500 \nL 2222 3500 \nL 2222 3053 \nL 1275 3053 \nL 1275 0 \nL 697 0 \nL 697 3053 \nL 147 3053 \nL 147 3500 \nL 697 3500 \nL 697 3744 \nQ 697 4328 969 4595 \nQ 1241 4863 1831 4863 \nL 2375 4863 \nz\n\" id=\"DejaVuSans-66\" transform=\"scale(0.015625)\"/>\n       <path d=\"M 3122 3366 \nL 3122 2828 \nQ 2878 2963 2633 3030 \nQ 2388 3097 2138 3097 \nQ 1578 3097 1268 2742 \nQ 959 2388 959 1747 \nQ 959 1106 1268 751 \nQ 1578 397 2138 397 \nQ 2388 397 2633 464 \nQ 2878 531 3122 666 \nL 3122 134 \nQ 2881 22 2623 -34 \nQ 2366 -91 2075 -91 \nQ 1284 -91 818 406 \nQ 353 903 353 1747 \nQ 353 2603 823 3093 \nQ 1294 3584 2113 3584 \nQ 2378 3584 2631 3529 \nQ 2884 3475 3122 3366 \nz\n\" id=\"DejaVuSans-63\" transform=\"scale(0.015625)\"/>\n       <path d=\"M 2194 1759 \nQ 1497 1759 1228 1600 \nQ 959 1441 959 1056 \nQ 959 750 1161 570 \nQ 1363 391 1709 391 \nQ 2188 391 2477 730 \nQ 2766 1069 2766 1631 \nL 2766 1759 \nL 2194 1759 \nz\nM 3341 1997 \nL 3341 0 \nL 2766 0 \nL 2766 531 \nQ 2569 213 2275 61 \nQ 1981 -91 1556 -91 \nQ 1019 -91 701 211 \nQ 384 513 384 1019 \nQ 384 1609 779 1909 \nQ 1175 2209 1959 2209 \nL 2766 2209 \nL 2766 2266 \nQ 2766 2663 2505 2880 \nQ 2244 3097 1772 3097 \nQ 1472 3097 1187 3025 \nQ 903 2953 641 2809 \nL 641 3341 \nQ 956 3463 1253 3523 \nQ 1550 3584 1831 3584 \nQ 2591 3584 2966 3190 \nQ 3341 2797 3341 1997 \nz\n\" id=\"DejaVuSans-61\" transform=\"scale(0.015625)\"/>\n       <path d=\"M 1172 4494 \nL 1172 3500 \nL 2356 3500 \nL 2356 3053 \nL 1172 3053 \nL 1172 1153 \nQ 1172 725 1289 603 \nQ 1406 481 1766 481 \nL 2356 481 \nL 2356 0 \nL 1766 0 \nQ 1100 0 847 248 \nQ 594 497 594 1153 \nL 594 3053 \nL 172 3053 \nL 172 3500 \nL 594 3500 \nL 594 4494 \nL 1172 4494 \nz\n\" id=\"DejaVuSans-74\" transform=\"scale(0.015625)\"/>\n       <path d=\"M 3513 2113 \nL 3513 0 \nL 2938 0 \nL 2938 2094 \nQ 2938 2591 2744 2837 \nQ 2550 3084 2163 3084 \nQ 1697 3084 1428 2787 \nQ 1159 2491 1159 1978 \nL 1159 0 \nL 581 0 \nL 581 3500 \nL 1159 3500 \nL 1159 2956 \nQ 1366 3272 1645 3428 \nQ 1925 3584 2291 3584 \nQ 2894 3584 3203 3211 \nQ 3513 2838 3513 2113 \nz\n\" id=\"DejaVuSans-6e\" transform=\"scale(0.015625)\"/>\n       <path d=\"M 3263 -1063 \nL 3263 -1509 \nL -63 -1509 \nL -63 -1063 \nL 3263 -1063 \nz\n\" id=\"DejaVuSans-5f\" transform=\"scale(0.015625)\"/>\n       <path d=\"M 3597 1894 \nL 3597 1613 \nL 953 1613 \nQ 991 1019 1311 708 \nQ 1631 397 2203 397 \nQ 2534 397 2845 478 \nQ 3156 559 3463 722 \nL 3463 178 \nQ 3153 47 2828 -22 \nQ 2503 -91 2169 -91 \nQ 1331 -91 842 396 \nQ 353 884 353 1716 \nQ 353 2575 817 3079 \nQ 1281 3584 2069 3584 \nQ 2775 3584 3186 3129 \nQ 3597 2675 3597 1894 \nz\nM 3022 2063 \nQ 3016 2534 2758 2815 \nQ 2500 3097 2075 3097 \nQ 1594 3097 1305 2825 \nQ 1016 2553 972 2059 \nL 3022 2063 \nz\n\" id=\"DejaVuSans-65\" transform=\"scale(0.015625)\"/>\n      </defs>\n      <use xlink:href=\"#DejaVuSans-6d\"/>\n      <use x=\"97.412109\" xlink:href=\"#DejaVuSans-6f\"/>\n      <use x=\"158.59375\" xlink:href=\"#DejaVuSans-64\"/>\n      <use x=\"222.070312\" xlink:href=\"#DejaVuSans-69\"/>\n      <use x=\"249.853516\" xlink:href=\"#DejaVuSans-66\"/>\n      <use x=\"285.058594\" xlink:href=\"#DejaVuSans-69\"/>\n      <use x=\"312.841797\" xlink:href=\"#DejaVuSans-63\"/>\n      <use x=\"367.822266\" xlink:href=\"#DejaVuSans-61\"/>\n      <use x=\"429.101562\" xlink:href=\"#DejaVuSans-74\"/>\n      <use x=\"468.310547\" xlink:href=\"#DejaVuSans-69\"/>\n      <use x=\"496.09375\" xlink:href=\"#DejaVuSans-6f\"/>\n      <use x=\"557.275391\" xlink:href=\"#DejaVuSans-6e\"/>\n      <use x=\"620.654297\" xlink:href=\"#DejaVuSans-5f\"/>\n      <use x=\"670.654297\" xlink:href=\"#DejaVuSans-64\"/>\n      <use x=\"734.130859\" xlink:href=\"#DejaVuSans-61\"/>\n      <use x=\"795.410156\" xlink:href=\"#DejaVuSans-74\"/>\n      <use x=\"834.619141\" xlink:href=\"#DejaVuSans-65\"/>\n     </g>\n    </g>\n   </g>\n   <g id=\"matplotlib.axis_2\">\n    <g id=\"ytick_1\">\n     <g id=\"line2d_13\">\n      <defs>\n       <path d=\"M 0 0 \nL -3.5 0 \n\" id=\"me334f673a1\" style=\"stroke:#000000;stroke-width:0.8;\"/>\n      </defs>\n      <g>\n       <use style=\"stroke:#000000;stroke-width:0.8;\" x=\"49.260938\" xlink:href=\"#me334f673a1\" y=\"281.76358\"/>\n      </g>\n     </g>\n     <g id=\"text_14\">\n      <!-- −20 -->\n      <g transform=\"translate(21.15625 285.562798)scale(0.1 -0.1)\">\n       <defs>\n        <path d=\"M 678 2272 \nL 4684 2272 \nL 4684 1741 \nL 678 1741 \nL 678 2272 \nz\n\" id=\"DejaVuSans-2212\" transform=\"scale(0.015625)\"/>\n       </defs>\n       <use xlink:href=\"#DejaVuSans-2212\"/>\n       <use x=\"83.789062\" xlink:href=\"#DejaVuSans-32\"/>\n       <use x=\"147.412109\" xlink:href=\"#DejaVuSans-30\"/>\n      </g>\n     </g>\n    </g>\n    <g id=\"ytick_2\">\n     <g id=\"line2d_14\">\n      <g>\n       <use style=\"stroke:#000000;stroke-width:0.8;\" x=\"49.260938\" xlink:href=\"#me334f673a1\" y=\"237.640203\"/>\n      </g>\n     </g>\n     <g id=\"text_15\">\n      <!-- −15 -->\n      <g transform=\"translate(21.15625 241.439422)scale(0.1 -0.1)\">\n       <use xlink:href=\"#DejaVuSans-2212\"/>\n       <use x=\"83.789062\" xlink:href=\"#DejaVuSans-31\"/>\n       <use x=\"147.412109\" xlink:href=\"#DejaVuSans-35\"/>\n      </g>\n     </g>\n    </g>\n    <g id=\"ytick_3\">\n     <g id=\"line2d_15\">\n      <g>\n       <use style=\"stroke:#000000;stroke-width:0.8;\" x=\"49.260938\" xlink:href=\"#me334f673a1\" y=\"193.516826\"/>\n      </g>\n     </g>\n     <g id=\"text_16\">\n      <!-- −10 -->\n      <g transform=\"translate(21.15625 197.316045)scale(0.1 -0.1)\">\n       <use xlink:href=\"#DejaVuSans-2212\"/>\n       <use x=\"83.789062\" xlink:href=\"#DejaVuSans-31\"/>\n       <use x=\"147.412109\" xlink:href=\"#DejaVuSans-30\"/>\n      </g>\n     </g>\n    </g>\n    <g id=\"ytick_4\">\n     <g id=\"line2d_16\">\n      <g>\n       <use style=\"stroke:#000000;stroke-width:0.8;\" x=\"49.260938\" xlink:href=\"#me334f673a1\" y=\"149.39345\"/>\n      </g>\n     </g>\n     <g id=\"text_17\">\n      <!-- −5 -->\n      <g transform=\"translate(27.51875 153.192668)scale(0.1 -0.1)\">\n       <use xlink:href=\"#DejaVuSans-2212\"/>\n       <use x=\"83.789062\" xlink:href=\"#DejaVuSans-35\"/>\n      </g>\n     </g>\n    </g>\n    <g id=\"ytick_5\">\n     <g id=\"line2d_17\">\n      <g>\n       <use style=\"stroke:#000000;stroke-width:0.8;\" x=\"49.260938\" xlink:href=\"#me334f673a1\" y=\"105.270073\"/>\n      </g>\n     </g>\n     <g id=\"text_18\">\n      <!-- 0 -->\n      <g transform=\"translate(35.898438 109.069292)scale(0.1 -0.1)\">\n       <use xlink:href=\"#DejaVuSans-30\"/>\n      </g>\n     </g>\n    </g>\n    <g id=\"ytick_6\">\n     <g id=\"line2d_18\">\n      <g>\n       <use style=\"stroke:#000000;stroke-width:0.8;\" x=\"49.260938\" xlink:href=\"#me334f673a1\" y=\"61.146696\"/>\n      </g>\n     </g>\n     <g id=\"text_19\">\n      <!-- 5 -->\n      <g transform=\"translate(35.898438 64.945915)scale(0.1 -0.1)\">\n       <use xlink:href=\"#DejaVuSans-35\"/>\n      </g>\n     </g>\n    </g>\n    <g id=\"text_20\">\n     <!-- bike_delta -->\n     <g transform=\"translate(14.798438 183.736094)rotate(-90)scale(0.1 -0.1)\">\n      <defs>\n       <path d=\"M 3116 1747 \nQ 3116 2381 2855 2742 \nQ 2594 3103 2138 3103 \nQ 1681 3103 1420 2742 \nQ 1159 2381 1159 1747 \nQ 1159 1113 1420 752 \nQ 1681 391 2138 391 \nQ 2594 391 2855 752 \nQ 3116 1113 3116 1747 \nz\nM 1159 2969 \nQ 1341 3281 1617 3432 \nQ 1894 3584 2278 3584 \nQ 2916 3584 3314 3078 \nQ 3713 2572 3713 1747 \nQ 3713 922 3314 415 \nQ 2916 -91 2278 -91 \nQ 1894 -91 1617 61 \nQ 1341 213 1159 525 \nL 1159 0 \nL 581 0 \nL 581 4863 \nL 1159 4863 \nL 1159 2969 \nz\n\" id=\"DejaVuSans-62\" transform=\"scale(0.015625)\"/>\n       <path d=\"M 581 4863 \nL 1159 4863 \nL 1159 1991 \nL 2875 3500 \nL 3609 3500 \nL 1753 1863 \nL 3688 0 \nL 2938 0 \nL 1159 1709 \nL 1159 0 \nL 581 0 \nL 581 4863 \nz\n\" id=\"DejaVuSans-6b\" transform=\"scale(0.015625)\"/>\n       <path d=\"M 603 4863 \nL 1178 4863 \nL 1178 0 \nL 603 0 \nL 603 4863 \nz\n\" id=\"DejaVuSans-6c\" transform=\"scale(0.015625)\"/>\n      </defs>\n      <use xlink:href=\"#DejaVuSans-62\"/>\n      <use x=\"63.476562\" xlink:href=\"#DejaVuSans-69\"/>\n      <use x=\"91.259766\" xlink:href=\"#DejaVuSans-6b\"/>\n      <use x=\"145.544922\" xlink:href=\"#DejaVuSans-65\"/>\n      <use x=\"207.068359\" xlink:href=\"#DejaVuSans-5f\"/>\n      <use x=\"257.068359\" xlink:href=\"#DejaVuSans-64\"/>\n      <use x=\"320.544922\" xlink:href=\"#DejaVuSans-65\"/>\n      <use x=\"382.068359\" xlink:href=\"#DejaVuSans-6c\"/>\n      <use x=\"409.851562\" xlink:href=\"#DejaVuSans-74\"/>\n      <use x=\"449.060547\" xlink:href=\"#DejaVuSans-61\"/>\n     </g>\n    </g>\n   </g>\n   <g id=\"line2d_19\">\n    <path clip-path=\"url(#pa92cb33a54)\" d=\"M 49.260938 246.464878 \nL 113.645553 281.76358 \nL 178.030168 122.919424 \nL 242.414784 114.094748 \nL 306.799399 122.919424 \nL 371.184014 99.386956 \nL 435.56863 34.67267 \nL 499.953245 246.464878 \nL 564.337861 158.218125 \nL 628.722476 69.971372 \nL 693.107091 69.971372 \nL 757.491707 246.464878 \n\" style=\"fill:none;stroke:#0000ff;stroke-linecap:square;stroke-width:1.5;\"/>\n    <defs>\n     <path d=\"M 0 3 \nC 0.795609 3 1.55874 2.683901 2.12132 2.12132 \nC 2.683901 1.55874 3 0.795609 3 0 \nC 3 -0.795609 2.683901 -1.55874 2.12132 -2.12132 \nC 1.55874 -2.683901 0.795609 -3 0 -3 \nC -0.795609 -3 -1.55874 -2.683901 -2.12132 -2.12132 \nC -2.683901 -1.55874 -3 -0.795609 -3 0 \nC -3 0.795609 -2.683901 1.55874 -2.12132 2.12132 \nC -1.55874 2.683901 -0.795609 3 0 3 \nz\n\" id=\"m65f74b6741\" style=\"stroke:#0000ff;\"/>\n    </defs>\n    <g clip-path=\"url(#pa92cb33a54)\">\n     <use style=\"fill:#0000ff;stroke:#0000ff;\" x=\"49.260938\" xlink:href=\"#m65f74b6741\" y=\"246.464878\"/>\n     <use style=\"fill:#0000ff;stroke:#0000ff;\" x=\"113.645553\" xlink:href=\"#m65f74b6741\" y=\"281.76358\"/>\n     <use style=\"fill:#0000ff;stroke:#0000ff;\" x=\"178.030168\" xlink:href=\"#m65f74b6741\" y=\"122.919424\"/>\n     <use style=\"fill:#0000ff;stroke:#0000ff;\" x=\"242.414784\" xlink:href=\"#m65f74b6741\" y=\"114.094748\"/>\n     <use style=\"fill:#0000ff;stroke:#0000ff;\" x=\"306.799399\" xlink:href=\"#m65f74b6741\" y=\"122.919424\"/>\n     <use style=\"fill:#0000ff;stroke:#0000ff;\" x=\"371.184014\" xlink:href=\"#m65f74b6741\" y=\"99.386956\"/>\n     <use style=\"fill:#0000ff;stroke:#0000ff;\" x=\"435.56863\" xlink:href=\"#m65f74b6741\" y=\"34.67267\"/>\n     <use style=\"fill:#0000ff;stroke:#0000ff;\" x=\"499.953245\" xlink:href=\"#m65f74b6741\" y=\"246.464878\"/>\n     <use style=\"fill:#0000ff;stroke:#0000ff;\" x=\"564.337861\" xlink:href=\"#m65f74b6741\" y=\"158.218125\"/>\n     <use style=\"fill:#0000ff;stroke:#0000ff;\" x=\"628.722476\" xlink:href=\"#m65f74b6741\" y=\"69.971372\"/>\n     <use style=\"fill:#0000ff;stroke:#0000ff;\" x=\"693.107091\" xlink:href=\"#m65f74b6741\" y=\"69.971372\"/>\n     <use style=\"fill:#0000ff;stroke:#0000ff;\" x=\"757.491707\" xlink:href=\"#m65f74b6741\" y=\"246.464878\"/>\n    </g>\n   </g>\n   <g id=\"patch_3\">\n    <path d=\"M 49.260938 294.118125 \nL 49.260938 22.318125 \n\" style=\"fill:none;stroke:#000000;stroke-linecap:square;stroke-linejoin:miter;stroke-width:0.8;\"/>\n   </g>\n   <g id=\"patch_4\">\n    <path d=\"M 886.260937 294.118125 \nL 886.260937 22.318125 \n\" style=\"fill:none;stroke:#000000;stroke-linecap:square;stroke-linejoin:miter;stroke-width:0.8;\"/>\n   </g>\n   <g id=\"patch_5\">\n    <path d=\"M 49.260938 294.118125 \nL 886.260937 294.118125 \n\" style=\"fill:none;stroke:#000000;stroke-linecap:square;stroke-linejoin:miter;stroke-width:0.8;\"/>\n   </g>\n   <g id=\"patch_6\">\n    <path d=\"M 49.260938 22.318125 \nL 886.260937 22.318125 \n\" style=\"fill:none;stroke:#000000;stroke-linecap:square;stroke-linejoin:miter;stroke-width:0.8;\"/>\n   </g>\n   <g id=\"text_21\">\n    <!-- Bike Delta After Modification -->\n    <g transform=\"translate(382.32375 16.318125)scale(0.12 -0.12)\">\n     <defs>\n      <path d=\"M 1259 2228 \nL 1259 519 \nL 2272 519 \nQ 2781 519 3026 730 \nQ 3272 941 3272 1375 \nQ 3272 1813 3026 2020 \nQ 2781 2228 2272 2228 \nL 1259 2228 \nz\nM 1259 4147 \nL 1259 2741 \nL 2194 2741 \nQ 2656 2741 2882 2914 \nQ 3109 3088 3109 3444 \nQ 3109 3797 2882 3972 \nQ 2656 4147 2194 4147 \nL 1259 4147 \nz\nM 628 4666 \nL 2241 4666 \nQ 2963 4666 3353 4366 \nQ 3744 4066 3744 3513 \nQ 3744 3084 3544 2831 \nQ 3344 2578 2956 2516 \nQ 3422 2416 3680 2098 \nQ 3938 1781 3938 1306 \nQ 3938 681 3513 340 \nQ 3088 0 2303 0 \nL 628 0 \nL 628 4666 \nz\n\" id=\"DejaVuSans-42\" transform=\"scale(0.015625)\"/>\n      <path id=\"DejaVuSans-20\" transform=\"scale(0.015625)\"/>\n      <path d=\"M 1259 4147 \nL 1259 519 \nL 2022 519 \nQ 2988 519 3436 956 \nQ 3884 1394 3884 2338 \nQ 3884 3275 3436 3711 \nQ 2988 4147 2022 4147 \nL 1259 4147 \nz\nM 628 4666 \nL 1925 4666 \nQ 3281 4666 3915 4102 \nQ 4550 3538 4550 2338 \nQ 4550 1131 3912 565 \nQ 3275 0 1925 0 \nL 628 0 \nL 628 4666 \nz\n\" id=\"DejaVuSans-44\" transform=\"scale(0.015625)\"/>\n      <path d=\"M 2188 4044 \nL 1331 1722 \nL 3047 1722 \nL 2188 4044 \nz\nM 1831 4666 \nL 2547 4666 \nL 4325 0 \nL 3669 0 \nL 3244 1197 \nL 1141 1197 \nL 716 0 \nL 50 0 \nL 1831 4666 \nz\n\" id=\"DejaVuSans-41\" transform=\"scale(0.015625)\"/>\n      <path d=\"M 2631 2963 \nQ 2534 3019 2420 3045 \nQ 2306 3072 2169 3072 \nQ 1681 3072 1420 2755 \nQ 1159 2438 1159 1844 \nL 1159 0 \nL 581 0 \nL 581 3500 \nL 1159 3500 \nL 1159 2956 \nQ 1341 3275 1631 3429 \nQ 1922 3584 2338 3584 \nQ 2397 3584 2469 3576 \nQ 2541 3569 2628 3553 \nL 2631 2963 \nz\n\" id=\"DejaVuSans-72\" transform=\"scale(0.015625)\"/>\n      <path d=\"M 628 4666 \nL 1569 4666 \nL 2759 1491 \nL 3956 4666 \nL 4897 4666 \nL 4897 0 \nL 4281 0 \nL 4281 4097 \nL 3078 897 \nL 2444 897 \nL 1241 4097 \nL 1241 0 \nL 628 0 \nL 628 4666 \nz\n\" id=\"DejaVuSans-4d\" transform=\"scale(0.015625)\"/>\n     </defs>\n     <use xlink:href=\"#DejaVuSans-42\"/>\n     <use x=\"68.603516\" xlink:href=\"#DejaVuSans-69\"/>\n     <use x=\"96.386719\" xlink:href=\"#DejaVuSans-6b\"/>\n     <use x=\"150.671875\" xlink:href=\"#DejaVuSans-65\"/>\n     <use x=\"212.195312\" xlink:href=\"#DejaVuSans-20\"/>\n     <use x=\"243.982422\" xlink:href=\"#DejaVuSans-44\"/>\n     <use x=\"320.984375\" xlink:href=\"#DejaVuSans-65\"/>\n     <use x=\"382.507812\" xlink:href=\"#DejaVuSans-6c\"/>\n     <use x=\"410.291016\" xlink:href=\"#DejaVuSans-74\"/>\n     <use x=\"449.5\" xlink:href=\"#DejaVuSans-61\"/>\n     <use x=\"510.779297\" xlink:href=\"#DejaVuSans-20\"/>\n     <use x=\"542.566406\" xlink:href=\"#DejaVuSans-41\"/>\n     <use x=\"607.349609\" xlink:href=\"#DejaVuSans-66\"/>\n     <use x=\"640.804688\" xlink:href=\"#DejaVuSans-74\"/>\n     <use x=\"680.013672\" xlink:href=\"#DejaVuSans-65\"/>\n     <use x=\"741.537109\" xlink:href=\"#DejaVuSans-72\"/>\n     <use x=\"782.650391\" xlink:href=\"#DejaVuSans-20\"/>\n     <use x=\"814.4375\" xlink:href=\"#DejaVuSans-4d\"/>\n     <use x=\"900.716797\" xlink:href=\"#DejaVuSans-6f\"/>\n     <use x=\"961.898438\" xlink:href=\"#DejaVuSans-64\"/>\n     <use x=\"1025.375\" xlink:href=\"#DejaVuSans-69\"/>\n     <use x=\"1053.158203\" xlink:href=\"#DejaVuSans-66\"/>\n     <use x=\"1088.363281\" xlink:href=\"#DejaVuSans-69\"/>\n     <use x=\"1116.146484\" xlink:href=\"#DejaVuSans-63\"/>\n     <use x=\"1171.126953\" xlink:href=\"#DejaVuSans-61\"/>\n     <use x=\"1232.40625\" xlink:href=\"#DejaVuSans-74\"/>\n     <use x=\"1271.615234\" xlink:href=\"#DejaVuSans-69\"/>\n     <use x=\"1299.398438\" xlink:href=\"#DejaVuSans-6f\"/>\n     <use x=\"1360.580078\" xlink:href=\"#DejaVuSans-6e\"/>\n    </g>\n   </g>\n  </g>\n </g>\n <defs>\n  <clipPath id=\"pa92cb33a54\">\n   <rect height=\"271.8\" width=\"837\" x=\"49.260938\" y=\"22.318125\"/>\n  </clipPath>\n </defs>\n</svg>\n",
      "image/png": "[encoded data removed]"
     },
     "metadata": {
      "needs_background": "light"
     }
    }
   ],
   "source": [
    "plt.figure(figsize=[15,5])\n",
    "plt.plot(st1.groupby('modification_date').mean()['bike_delta'],'-ob')\n",
    "plt.xlabel('modification_date')\n",
    "plt.ylabel('bike_delta')\n",
    "plt.title('Changes in the number of bikes after modification')\n",
    "plt.xlim([0,13])\n",
    "plt.show()"
   ]
  },
  {
   "cell_type": "code",
   "execution_count": 183,
   "metadata": {},
   "outputs": [
    {
     "output_type": "stream",
     "name": "stderr",
     "text": [
      "/var/folders/dt/32g382hd2790vpfhx9phrz4r0000gn/T/ipykernel_72710/3309618624.py:1: FutureWarning: Dropping of nuisance columns in DataFrame reductions (with 'numeric_only=None') is deprecated; in a future version this will raise TypeError.  Select only valid columns before calling the reduction.\n  delta.mean()\n"
     ]
    },
    {
     "output_type": "execute_result",
     "data": {
      "text/plain": [
       "bike_delta   -3.263158\n",
       "dtype: float64"
      ]
     },
     "metadata": {},
     "execution_count": 183
    }
   ],
   "source": [
    "delta.mean()"
   ]
  },
  {
   "cell_type": "code",
   "execution_count": null,
   "metadata": {},
   "outputs": [],
   "source": []
  }
 ]
}